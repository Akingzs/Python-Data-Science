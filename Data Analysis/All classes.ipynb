{
 "cells": [
  {
   "cell_type": "code",
   "execution_count": null,
   "id": "9c0f111e",
   "metadata": {},
   "outputs": [],
   "source": [
    "import pandas as pd"
   ]
  },
  {
   "cell_type": "code",
   "execution_count": null,
   "id": "16030650",
   "metadata": {},
   "outputs": [],
   "source": [
    "file = \"C:/Users/arthur.oliveira/Desktop/archive (1)/europe-motorbikes-zenrows.csv\"\n",
    "df = pd.read_csv(file)"
   ]
  },
  {
   "cell_type": "code",
   "execution_count": null,
   "id": "f13d725c",
   "metadata": {},
   "outputs": [],
   "source": [
    "df.head()"
   ]
  },
  {
   "cell_type": "code",
   "execution_count": null,
   "id": "73ae551b",
   "metadata": {},
   "outputs": [],
   "source": [
    "# salva aruivo no local desejado\n",
    "save_path = 'C:/Users/arthur.oliveira/Desktop/archive (1)/salvo-europe-motorbikes-zenrows.csv'\n",
    "df.to_csv(save_path)"
   ]
  },
  {
   "cell_type": "code",
   "execution_count": null,
   "id": "bd25db0a",
   "metadata": {},
   "outputs": [],
   "source": [
    "df.dtypes"
   ]
  },
  {
   "cell_type": "code",
   "execution_count": null,
   "id": "6f1ab737",
   "metadata": {},
   "outputs": [],
   "source": [
    "#So funciona para valores numericos\n",
    "df.describe()"
   ]
  },
  {
   "cell_type": "code",
   "execution_count": null,
   "id": "a533c9f9",
   "metadata": {},
   "outputs": [],
   "source": [
    "# Funciona para todos as colunas\n",
    "df.describe(include='all')"
   ]
  },
  {
   "cell_type": "code",
   "execution_count": null,
   "id": "8988aa67",
   "metadata": {},
   "outputs": [],
   "source": [
    "df.info()"
   ]
  },
  {
   "cell_type": "markdown",
   "id": "c3874b24",
   "metadata": {},
   "source": [
    "# WEEK 2- DATA WRANGLING"
   ]
  },
  {
   "cell_type": "code",
   "execution_count": null,
   "id": "ad5c37f5",
   "metadata": {},
   "outputs": [],
   "source": [
    "# Acessar colunas\n",
    "df['price']"
   ]
  },
  {
   "cell_type": "code",
   "execution_count": null,
   "id": "1a94c369",
   "metadata": {},
   "outputs": [],
   "source": [
    "# criando outra dataset para nara nao mexer no original\n",
    "\n",
    "df2 = df\n",
    "# Removendo colunas ou linhas com NaN axis=0 row axis=1 column\n",
    "#inplace permite alterar a planilha diretamente\n",
    "\n",
    "df2.dropna(subset=['fuel'], axis=0, inplace = True)"
   ]
  },
  {
   "cell_type": "code",
   "execution_count": null,
   "id": "ff504bf3",
   "metadata": {},
   "outputs": [],
   "source": [
    "df2.info()"
   ]
  },
  {
   "cell_type": "code",
   "execution_count": null,
   "id": "a59f0a91",
   "metadata": {},
   "outputs": [],
   "source": [
    "df2.head()"
   ]
  },
  {
   "cell_type": "code",
   "execution_count": null,
   "id": "bf5c9669",
   "metadata": {},
   "outputs": [],
   "source": [
    "#renomeando colunas\n",
    "df2.rename(columns={'price':'preco'}, inplace = True)"
   ]
  },
  {
   "cell_type": "code",
   "execution_count": null,
   "id": "cc85ca34",
   "metadata": {},
   "outputs": [],
   "source": [
    "df2.info()"
   ]
  },
  {
   "cell_type": "code",
   "execution_count": null,
   "id": "b3c62f86",
   "metadata": {},
   "outputs": [],
   "source": [
    "df2['date'].dtypes"
   ]
  },
  {
   "cell_type": "code",
   "execution_count": null,
   "id": "70cd8f41",
   "metadata": {},
   "outputs": [],
   "source": [
    "#df2['date'] = df2['date'].astype('datetime64')"
   ]
  },
  {
   "cell_type": "code",
   "execution_count": null,
   "id": "dd7cf133",
   "metadata": {},
   "outputs": [],
   "source": [
    "import numpy as np"
   ]
  },
  {
   "cell_type": "code",
   "execution_count": null,
   "id": "312520b0",
   "metadata": {},
   "outputs": [],
   "source": [
    "np.set_printoptions(formatter={'float': '{: 0.2f}'.format})\n",
    "bins = np.linspace(min(df['preco']),max(df2['preco']),4)"
   ]
  },
  {
   "cell_type": "code",
   "execution_count": null,
   "id": "30e648c0",
   "metadata": {},
   "outputs": [],
   "source": [
    "print(bins)"
   ]
  },
  {
   "cell_type": "code",
   "execution_count": null,
   "id": "6fd1eb94",
   "metadata": {},
   "outputs": [],
   "source": [
    "\n",
    "group_names = ['Low','Med','High']\n",
    "\n",
    "df2['binned-preco'] = pd.cut(df2['preco'],bins, labels=group_names,include_lowest=True)"
   ]
  },
  {
   "cell_type": "code",
   "execution_count": null,
   "id": "71de3b10",
   "metadata": {},
   "outputs": [],
   "source": [
    "df2.describe().applymap(\"{0:.2f}\".format)"
   ]
  },
  {
   "cell_type": "code",
   "execution_count": null,
   "id": "bbb33557",
   "metadata": {},
   "outputs": [],
   "source": []
  }
 ],
 "metadata": {
  "kernelspec": {
   "display_name": "Python 3 (ipykernel)",
   "language": "python",
   "name": "python3"
  },
  "language_info": {
   "codemirror_mode": {
    "name": "ipython",
    "version": 3
   },
   "file_extension": ".py",
   "mimetype": "text/x-python",
   "name": "python",
   "nbconvert_exporter": "python",
   "pygments_lexer": "ipython3",
   "version": "3.12.1"
  }
 },
 "nbformat": 4,
 "nbformat_minor": 5
}
