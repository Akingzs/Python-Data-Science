{
 "cells": [
  {
   "cell_type": "code",
   "execution_count": 1,
   "id": "2ec0e0c7",
   "metadata": {},
   "outputs": [],
   "source": [
    "import pandas as pd\n",
    "import numpy as np\n",
    "import matplotlib.pyplot as plt"
   ]
  },
  {
   "cell_type": "code",
   "execution_count": 63,
   "id": "a022dd79",
   "metadata": {},
   "outputs": [],
   "source": [
    "folder_path = r'C:\\Users\\arthur.oliveira\\OneDrive\\Study\\Python-Data-Science\\Data Analysis\\Databases\\Games\\Video_Games.csv'\n",
    "df = pd.read_csv(folder_path)"
   ]
  },
  {
   "cell_type": "code",
   "execution_count": null,
   "id": "2d5c860f",
   "metadata": {},
   "outputs": [],
   "source": [
    "df.head(10)"
   ]
  },
  {
   "cell_type": "code",
   "execution_count": 64,
   "id": "a7dc1198",
   "metadata": {},
   "outputs": [
    {
     "name": "stdout",
     "output_type": "stream",
     "text": [
      "<class 'pandas.core.frame.DataFrame'>\n",
      "RangeIndex: 16719 entries, 0 to 16718\n",
      "Data columns (total 16 columns):\n",
      " #   Column           Non-Null Count  Dtype  \n",
      "---  ------           --------------  -----  \n",
      " 0   Name             16717 non-null  object \n",
      " 1   Platform         16719 non-null  object \n",
      " 2   Year_of_Release  16450 non-null  float64\n",
      " 3   Genre            16717 non-null  object \n",
      " 4   Publisher        16665 non-null  object \n",
      " 5   NA_Sales         16719 non-null  float64\n",
      " 6   EU_Sales         16719 non-null  float64\n",
      " 7   JP_Sales         16719 non-null  float64\n",
      " 8   Other_Sales      16719 non-null  float64\n",
      " 9   Global_Sales     16719 non-null  float64\n",
      " 10  Critic_Score     8137 non-null   float64\n",
      " 11  Critic_Count     8137 non-null   float64\n",
      " 12  User_Score       10015 non-null  object \n",
      " 13  User_Count       7590 non-null   float64\n",
      " 14  Developer        10096 non-null  object \n",
      " 15  Rating           9950 non-null   object \n",
      "dtypes: float64(9), object(7)\n",
      "memory usage: 2.0+ MB\n"
     ]
    }
   ],
   "source": [
    "df.info()"
   ]
  },
  {
   "cell_type": "code",
   "execution_count": 65,
   "id": "c3810f65",
   "metadata": {},
   "outputs": [
    {
     "data": {
      "text/plain": [
       "User_Score\n",
       "tbd    2425\n",
       "7.8     324\n",
       "8       290\n",
       "8.2     282\n",
       "8.3     254\n",
       "       ... \n",
       "1.1       2\n",
       "1.9       2\n",
       "9.6       2\n",
       "0         1\n",
       "9.7       1\n",
       "Name: count, Length: 96, dtype: int64"
      ]
     },
     "execution_count": 65,
     "metadata": {},
     "output_type": "execute_result"
    }
   ],
   "source": [
    "# Noticed that this column had non numeric values, so I had to adjust to convert column type \n",
    "df['User_Score'].value_counts()"
   ]
  },
  {
   "cell_type": "code",
   "execution_count": 69,
   "id": "e5dd56c9",
   "metadata": {},
   "outputs": [],
   "source": [
    "# Inplace will not work in pandas 3.0\n",
    "df['User_Score'] = df['User_Score'].replace('tbd',np.nan)"
   ]
  },
  {
   "cell_type": "code",
   "execution_count": 71,
   "id": "da132f8c",
   "metadata": {},
   "outputs": [
    {
     "data": {
      "text/plain": [
       "User_Score\n",
       "7.8    324\n",
       "8      290\n",
       "8.2    282\n",
       "8.3    254\n",
       "8.5    253\n",
       "      ... \n",
       "1.5      2\n",
       "0.3      2\n",
       "1.1      2\n",
       "0        1\n",
       "9.7      1\n",
       "Name: count, Length: 95, dtype: int64"
      ]
     },
     "execution_count": 71,
     "metadata": {},
     "output_type": "execute_result"
    }
   ],
   "source": [
    "# 'tbd' values removed\n",
    "df['User_Score'].value_counts()"
   ]
  },
  {
   "cell_type": "code",
   "execution_count": 73,
   "id": "08af1f18",
   "metadata": {},
   "outputs": [],
   "source": [
    "# Convert User_Score to type float\n",
    "df['User_Score'] = df['User_Score'].astype(float)"
   ]
  },
  {
   "cell_type": "code",
   "execution_count": 74,
   "id": "e5b21497",
   "metadata": {},
   "outputs": [
    {
     "name": "stdout",
     "output_type": "stream",
     "text": [
      "<class 'pandas.core.frame.DataFrame'>\n",
      "RangeIndex: 16719 entries, 0 to 16718\n",
      "Data columns (total 16 columns):\n",
      " #   Column           Non-Null Count  Dtype  \n",
      "---  ------           --------------  -----  \n",
      " 0   Name             16717 non-null  object \n",
      " 1   Platform         16719 non-null  object \n",
      " 2   Year_of_Release  16450 non-null  float64\n",
      " 3   Genre            16717 non-null  object \n",
      " 4   Publisher        16665 non-null  object \n",
      " 5   NA_Sales         16719 non-null  float64\n",
      " 6   EU_Sales         16719 non-null  float64\n",
      " 7   JP_Sales         16719 non-null  float64\n",
      " 8   Other_Sales      16719 non-null  float64\n",
      " 9   Global_Sales     16719 non-null  float64\n",
      " 10  Critic_Score     8137 non-null   float64\n",
      " 11  Critic_Count     8137 non-null   float64\n",
      " 12  User_Score       7590 non-null   float64\n",
      " 13  User_Count       7590 non-null   float64\n",
      " 14  Developer        10096 non-null  object \n",
      " 15  Rating           9950 non-null   object \n",
      "dtypes: float64(10), object(6)\n",
      "memory usage: 2.0+ MB\n"
     ]
    }
   ],
   "source": [
    "df.info()"
   ]
  },
  {
   "cell_type": "code",
   "execution_count": 80,
   "id": "80d6634d",
   "metadata": {},
   "outputs": [
    {
     "data": {
      "text/plain": [
       "Index(['Name', 'Platform', 'Year_of_Release', 'Genre', 'Publisher', 'NA_Sales',\n",
       "       'EU_Sales', 'JP_Sales', 'Other_Sales', 'Global_Sales', 'Critic_Score',\n",
       "       'Critic_Count', 'User_Score', 'User_Count', 'Developer', 'Rating'],\n",
       "      dtype='object')"
      ]
     },
     "execution_count": 80,
     "metadata": {},
     "output_type": "execute_result"
    }
   ],
   "source": [
    "df.columns"
   ]
  },
  {
   "cell_type": "code",
   "execution_count": 81,
   "id": "0d85a16c",
   "metadata": {},
   "outputs": [
    {
     "data": {
      "text/plain": [
       "Rating\n",
       "E       3991\n",
       "T       2961\n",
       "M       1563\n",
       "E10+    1420\n",
       "EC         8\n",
       "K-A        3\n",
       "RP         3\n",
       "AO         1\n",
       "Name: count, dtype: int64"
      ]
     },
     "execution_count": 81,
     "metadata": {},
     "output_type": "execute_result"
    }
   ],
   "source": [
    "df['Rating'].value_counts()"
   ]
  },
  {
   "cell_type": "code",
   "execution_count": 82,
   "id": "d08a8b32",
   "metadata": {},
   "outputs": [
    {
     "data": {
      "text/html": [
       "<div>\n",
       "<style scoped>\n",
       "    .dataframe tbody tr th:only-of-type {\n",
       "        vertical-align: middle;\n",
       "    }\n",
       "\n",
       "    .dataframe tbody tr th {\n",
       "        vertical-align: top;\n",
       "    }\n",
       "\n",
       "    .dataframe thead th {\n",
       "        text-align: right;\n",
       "    }\n",
       "</style>\n",
       "<table border=\"1\" class=\"dataframe\">\n",
       "  <thead>\n",
       "    <tr style=\"text-align: right;\">\n",
       "      <th></th>\n",
       "      <th>Year_of_Release</th>\n",
       "      <th>NA_Sales</th>\n",
       "      <th>EU_Sales</th>\n",
       "      <th>JP_Sales</th>\n",
       "      <th>Other_Sales</th>\n",
       "      <th>Global_Sales</th>\n",
       "      <th>Critic_Score</th>\n",
       "      <th>Critic_Count</th>\n",
       "      <th>User_Score</th>\n",
       "      <th>User_Count</th>\n",
       "    </tr>\n",
       "  </thead>\n",
       "  <tbody>\n",
       "    <tr>\n",
       "      <th>count</th>\n",
       "      <td>16450.000000</td>\n",
       "      <td>16719.000000</td>\n",
       "      <td>16719.000000</td>\n",
       "      <td>16719.000000</td>\n",
       "      <td>16719.000000</td>\n",
       "      <td>16719.000000</td>\n",
       "      <td>8137.000000</td>\n",
       "      <td>8137.000000</td>\n",
       "      <td>7590.000000</td>\n",
       "      <td>7590.000000</td>\n",
       "    </tr>\n",
       "    <tr>\n",
       "      <th>mean</th>\n",
       "      <td>2006.487356</td>\n",
       "      <td>0.263330</td>\n",
       "      <td>0.145025</td>\n",
       "      <td>0.077602</td>\n",
       "      <td>0.047332</td>\n",
       "      <td>0.533543</td>\n",
       "      <td>68.967679</td>\n",
       "      <td>26.360821</td>\n",
       "      <td>7.125046</td>\n",
       "      <td>162.229908</td>\n",
       "    </tr>\n",
       "    <tr>\n",
       "      <th>std</th>\n",
       "      <td>5.878995</td>\n",
       "      <td>0.813514</td>\n",
       "      <td>0.503283</td>\n",
       "      <td>0.308818</td>\n",
       "      <td>0.186710</td>\n",
       "      <td>1.547935</td>\n",
       "      <td>13.938165</td>\n",
       "      <td>18.980495</td>\n",
       "      <td>1.500006</td>\n",
       "      <td>561.282326</td>\n",
       "    </tr>\n",
       "    <tr>\n",
       "      <th>min</th>\n",
       "      <td>1980.000000</td>\n",
       "      <td>0.000000</td>\n",
       "      <td>0.000000</td>\n",
       "      <td>0.000000</td>\n",
       "      <td>0.000000</td>\n",
       "      <td>0.010000</td>\n",
       "      <td>13.000000</td>\n",
       "      <td>3.000000</td>\n",
       "      <td>0.000000</td>\n",
       "      <td>4.000000</td>\n",
       "    </tr>\n",
       "    <tr>\n",
       "      <th>25%</th>\n",
       "      <td>2003.000000</td>\n",
       "      <td>0.000000</td>\n",
       "      <td>0.000000</td>\n",
       "      <td>0.000000</td>\n",
       "      <td>0.000000</td>\n",
       "      <td>0.060000</td>\n",
       "      <td>60.000000</td>\n",
       "      <td>12.000000</td>\n",
       "      <td>6.400000</td>\n",
       "      <td>10.000000</td>\n",
       "    </tr>\n",
       "    <tr>\n",
       "      <th>50%</th>\n",
       "      <td>2007.000000</td>\n",
       "      <td>0.080000</td>\n",
       "      <td>0.020000</td>\n",
       "      <td>0.000000</td>\n",
       "      <td>0.010000</td>\n",
       "      <td>0.170000</td>\n",
       "      <td>71.000000</td>\n",
       "      <td>21.000000</td>\n",
       "      <td>7.500000</td>\n",
       "      <td>24.000000</td>\n",
       "    </tr>\n",
       "    <tr>\n",
       "      <th>75%</th>\n",
       "      <td>2010.000000</td>\n",
       "      <td>0.240000</td>\n",
       "      <td>0.110000</td>\n",
       "      <td>0.040000</td>\n",
       "      <td>0.030000</td>\n",
       "      <td>0.470000</td>\n",
       "      <td>79.000000</td>\n",
       "      <td>36.000000</td>\n",
       "      <td>8.200000</td>\n",
       "      <td>81.000000</td>\n",
       "    </tr>\n",
       "    <tr>\n",
       "      <th>max</th>\n",
       "      <td>2020.000000</td>\n",
       "      <td>41.360000</td>\n",
       "      <td>28.960000</td>\n",
       "      <td>10.220000</td>\n",
       "      <td>10.570000</td>\n",
       "      <td>82.530000</td>\n",
       "      <td>98.000000</td>\n",
       "      <td>113.000000</td>\n",
       "      <td>9.700000</td>\n",
       "      <td>10665.000000</td>\n",
       "    </tr>\n",
       "  </tbody>\n",
       "</table>\n",
       "</div>"
      ],
      "text/plain": [
       "       Year_of_Release      NA_Sales      EU_Sales      JP_Sales  \\\n",
       "count     16450.000000  16719.000000  16719.000000  16719.000000   \n",
       "mean       2006.487356      0.263330      0.145025      0.077602   \n",
       "std           5.878995      0.813514      0.503283      0.308818   \n",
       "min        1980.000000      0.000000      0.000000      0.000000   \n",
       "25%        2003.000000      0.000000      0.000000      0.000000   \n",
       "50%        2007.000000      0.080000      0.020000      0.000000   \n",
       "75%        2010.000000      0.240000      0.110000      0.040000   \n",
       "max        2020.000000     41.360000     28.960000     10.220000   \n",
       "\n",
       "        Other_Sales  Global_Sales  Critic_Score  Critic_Count   User_Score  \\\n",
       "count  16719.000000  16719.000000   8137.000000   8137.000000  7590.000000   \n",
       "mean       0.047332      0.533543     68.967679     26.360821     7.125046   \n",
       "std        0.186710      1.547935     13.938165     18.980495     1.500006   \n",
       "min        0.000000      0.010000     13.000000      3.000000     0.000000   \n",
       "25%        0.000000      0.060000     60.000000     12.000000     6.400000   \n",
       "50%        0.010000      0.170000     71.000000     21.000000     7.500000   \n",
       "75%        0.030000      0.470000     79.000000     36.000000     8.200000   \n",
       "max       10.570000     82.530000     98.000000    113.000000     9.700000   \n",
       "\n",
       "         User_Count  \n",
       "count   7590.000000  \n",
       "mean     162.229908  \n",
       "std      561.282326  \n",
       "min        4.000000  \n",
       "25%       10.000000  \n",
       "50%       24.000000  \n",
       "75%       81.000000  \n",
       "max    10665.000000  "
      ]
     },
     "execution_count": 82,
     "metadata": {},
     "output_type": "execute_result"
    }
   ],
   "source": [
    "df.describe()"
   ]
  },
  {
   "cell_type": "code",
   "execution_count": 83,
   "id": "437cfc8c",
   "metadata": {},
   "outputs": [
    {
     "data": {
      "text/plain": [
       "Name                  2\n",
       "Platform              0\n",
       "Year_of_Release     269\n",
       "Genre                 2\n",
       "Publisher            54\n",
       "NA_Sales              0\n",
       "EU_Sales              0\n",
       "JP_Sales              0\n",
       "Other_Sales           0\n",
       "Global_Sales          0\n",
       "Critic_Score       8582\n",
       "Critic_Count       8582\n",
       "User_Score         9129\n",
       "User_Count         9129\n",
       "Developer          6623\n",
       "Rating             6769\n",
       "dtype: int64"
      ]
     },
     "execution_count": 83,
     "metadata": {},
     "output_type": "execute_result"
    }
   ],
   "source": [
    "# Counting null values\n",
    "df.isnull().sum()"
   ]
  },
  {
   "cell_type": "code",
   "execution_count": 84,
   "id": "c5a78ba6",
   "metadata": {},
   "outputs": [],
   "source": [
    "df = df.dropna(subset=['Name', 'Year_of_Release'])\n",
    "# df.dropna(subset=['Name', 'Year_of_Release'], inplace=True)"
   ]
  },
  {
   "cell_type": "code",
   "execution_count": 86,
   "id": "e8573eee",
   "metadata": {},
   "outputs": [
    {
     "data": {
      "text/plain": [
       "Name                  0\n",
       "Platform              0\n",
       "Year_of_Release       0\n",
       "Genre                 0\n",
       "Publisher            32\n",
       "NA_Sales              0\n",
       "EU_Sales              0\n",
       "JP_Sales              0\n",
       "Other_Sales           0\n",
       "Global_Sales          0\n",
       "Critic_Score       8465\n",
       "Critic_Count       8465\n",
       "User_Score         8985\n",
       "User_Count         8985\n",
       "Developer          6541\n",
       "Rating             6679\n",
       "dtype: int64"
      ]
     },
     "execution_count": 86,
     "metadata": {},
     "output_type": "execute_result"
    }
   ],
   "source": [
    "# Counting null values\n",
    "df.isnull().sum()"
   ]
  },
  {
   "cell_type": "code",
   "execution_count": 87,
   "id": "821bac2e",
   "metadata": {},
   "outputs": [],
   "source": [
    "# Convert User_Score to type float\n",
    "df['Year_of_Release'] = df['Year_of_Release'].astype(int)"
   ]
  },
  {
   "cell_type": "code",
   "execution_count": 88,
   "id": "f0ed6ee0",
   "metadata": {},
   "outputs": [
    {
     "name": "stdout",
     "output_type": "stream",
     "text": [
      "<class 'pandas.core.frame.DataFrame'>\n",
      "Index: 16448 entries, 0 to 16718\n",
      "Data columns (total 16 columns):\n",
      " #   Column           Non-Null Count  Dtype  \n",
      "---  ------           --------------  -----  \n",
      " 0   Name             16448 non-null  object \n",
      " 1   Platform         16448 non-null  object \n",
      " 2   Year_of_Release  16448 non-null  int32  \n",
      " 3   Genre            16448 non-null  object \n",
      " 4   Publisher        16416 non-null  object \n",
      " 5   NA_Sales         16448 non-null  float64\n",
      " 6   EU_Sales         16448 non-null  float64\n",
      " 7   JP_Sales         16448 non-null  float64\n",
      " 8   Other_Sales      16448 non-null  float64\n",
      " 9   Global_Sales     16448 non-null  float64\n",
      " 10  Critic_Score     7983 non-null   float64\n",
      " 11  Critic_Count     7983 non-null   float64\n",
      " 12  User_Score       7463 non-null   float64\n",
      " 13  User_Count       7463 non-null   float64\n",
      " 14  Developer        9907 non-null   object \n",
      " 15  Rating           9769 non-null   object \n",
      "dtypes: float64(9), int32(1), object(6)\n",
      "memory usage: 2.1+ MB\n"
     ]
    }
   ],
   "source": [
    "df.info()"
   ]
  },
  {
   "cell_type": "code",
   "execution_count": 89,
   "id": "679577f6",
   "metadata": {},
   "outputs": [
    {
     "data": {
      "text/plain": [
       "Name\n",
       "Need for Speed: Most Wanted               12\n",
       "FIFA 14                                    9\n",
       "LEGO Marvel Super Heroes                   9\n",
       "Ratatouille                                9\n",
       "Madden NFL 08                              8\n",
       "                                          ..\n",
       "Loving Life with Hello Kitty & Friends     1\n",
       "Scrabble (Others sales)                    1\n",
       "Viva Pinata: Party Animals                 1\n",
       "Sands of Destruction                       1\n",
       "Haitaka no Psychedelica                    1\n",
       "Name: count, Length: 11429, dtype: int64"
      ]
     },
     "execution_count": 89,
     "metadata": {},
     "output_type": "execute_result"
    }
   ],
   "source": [
    "# See if there are non unique titles\n",
    "df['Name'].value_counts()"
   ]
  },
  {
   "cell_type": "code",
   "execution_count": 90,
   "id": "32e68204",
   "metadata": {},
   "outputs": [
    {
     "data": {
      "text/html": [
       "<div>\n",
       "<style scoped>\n",
       "    .dataframe tbody tr th:only-of-type {\n",
       "        vertical-align: middle;\n",
       "    }\n",
       "\n",
       "    .dataframe tbody tr th {\n",
       "        vertical-align: top;\n",
       "    }\n",
       "\n",
       "    .dataframe thead th {\n",
       "        text-align: right;\n",
       "    }\n",
       "</style>\n",
       "<table border=\"1\" class=\"dataframe\">\n",
       "  <thead>\n",
       "    <tr style=\"text-align: right;\">\n",
       "      <th></th>\n",
       "      <th>Name</th>\n",
       "      <th>Platform</th>\n",
       "      <th>Year_of_Release</th>\n",
       "      <th>Genre</th>\n",
       "      <th>Publisher</th>\n",
       "      <th>NA_Sales</th>\n",
       "      <th>EU_Sales</th>\n",
       "      <th>JP_Sales</th>\n",
       "      <th>Other_Sales</th>\n",
       "      <th>Global_Sales</th>\n",
       "      <th>Critic_Score</th>\n",
       "      <th>Critic_Count</th>\n",
       "      <th>User_Score</th>\n",
       "      <th>User_Count</th>\n",
       "      <th>Developer</th>\n",
       "      <th>Rating</th>\n",
       "    </tr>\n",
       "  </thead>\n",
       "  <tbody>\n",
       "    <tr>\n",
       "      <th>126</th>\n",
       "      <td>FIFA 14</td>\n",
       "      <td>PS3</td>\n",
       "      <td>2013</td>\n",
       "      <td>Sports</td>\n",
       "      <td>Electronic Arts</td>\n",
       "      <td>0.78</td>\n",
       "      <td>4.24</td>\n",
       "      <td>0.07</td>\n",
       "      <td>1.37</td>\n",
       "      <td>6.47</td>\n",
       "      <td>86.0</td>\n",
       "      <td>37.0</td>\n",
       "      <td>4.3</td>\n",
       "      <td>576.0</td>\n",
       "      <td>EA Canada</td>\n",
       "      <td>E</td>\n",
       "    </tr>\n",
       "    <tr>\n",
       "      <th>271</th>\n",
       "      <td>FIFA 14</td>\n",
       "      <td>X360</td>\n",
       "      <td>2013</td>\n",
       "      <td>Sports</td>\n",
       "      <td>Electronic Arts</td>\n",
       "      <td>0.92</td>\n",
       "      <td>2.89</td>\n",
       "      <td>0.01</td>\n",
       "      <td>0.40</td>\n",
       "      <td>4.22</td>\n",
       "      <td>84.0</td>\n",
       "      <td>41.0</td>\n",
       "      <td>4.2</td>\n",
       "      <td>435.0</td>\n",
       "      <td>EA Canada</td>\n",
       "      <td>E</td>\n",
       "    </tr>\n",
       "    <tr>\n",
       "      <th>469</th>\n",
       "      <td>FIFA 14</td>\n",
       "      <td>PS4</td>\n",
       "      <td>2013</td>\n",
       "      <td>Sports</td>\n",
       "      <td>Electronic Arts</td>\n",
       "      <td>0.61</td>\n",
       "      <td>1.85</td>\n",
       "      <td>0.11</td>\n",
       "      <td>0.44</td>\n",
       "      <td>3.01</td>\n",
       "      <td>87.0</td>\n",
       "      <td>26.0</td>\n",
       "      <td>6.3</td>\n",
       "      <td>616.0</td>\n",
       "      <td>EA Canada</td>\n",
       "      <td>E</td>\n",
       "    </tr>\n",
       "    <tr>\n",
       "      <th>1753</th>\n",
       "      <td>FIFA 14</td>\n",
       "      <td>XOne</td>\n",
       "      <td>2013</td>\n",
       "      <td>Sports</td>\n",
       "      <td>Electronic Arts</td>\n",
       "      <td>0.41</td>\n",
       "      <td>0.66</td>\n",
       "      <td>0.00</td>\n",
       "      <td>0.09</td>\n",
       "      <td>1.16</td>\n",
       "      <td>88.0</td>\n",
       "      <td>22.0</td>\n",
       "      <td>5.8</td>\n",
       "      <td>328.0</td>\n",
       "      <td>EA Canada</td>\n",
       "      <td>E</td>\n",
       "    </tr>\n",
       "    <tr>\n",
       "      <th>4699</th>\n",
       "      <td>FIFA 14</td>\n",
       "      <td>PSV</td>\n",
       "      <td>2013</td>\n",
       "      <td>Sports</td>\n",
       "      <td>Electronic Arts</td>\n",
       "      <td>0.08</td>\n",
       "      <td>0.23</td>\n",
       "      <td>0.01</td>\n",
       "      <td>0.09</td>\n",
       "      <td>0.41</td>\n",
       "      <td>NaN</td>\n",
       "      <td>NaN</td>\n",
       "      <td>1.8</td>\n",
       "      <td>69.0</td>\n",
       "      <td>EA Canada</td>\n",
       "      <td>E</td>\n",
       "    </tr>\n",
       "    <tr>\n",
       "      <th>4809</th>\n",
       "      <td>FIFA 14</td>\n",
       "      <td>PC</td>\n",
       "      <td>2013</td>\n",
       "      <td>Sports</td>\n",
       "      <td>Electronic Arts</td>\n",
       "      <td>0.01</td>\n",
       "      <td>0.36</td>\n",
       "      <td>0.00</td>\n",
       "      <td>0.03</td>\n",
       "      <td>0.40</td>\n",
       "      <td>87.0</td>\n",
       "      <td>6.0</td>\n",
       "      <td>4.6</td>\n",
       "      <td>441.0</td>\n",
       "      <td>EA Canada</td>\n",
       "      <td>E</td>\n",
       "    </tr>\n",
       "    <tr>\n",
       "      <th>4985</th>\n",
       "      <td>FIFA 14</td>\n",
       "      <td>Wii</td>\n",
       "      <td>2013</td>\n",
       "      <td>Sports</td>\n",
       "      <td>Electronic Arts</td>\n",
       "      <td>0.00</td>\n",
       "      <td>0.36</td>\n",
       "      <td>0.00</td>\n",
       "      <td>0.02</td>\n",
       "      <td>0.38</td>\n",
       "      <td>NaN</td>\n",
       "      <td>NaN</td>\n",
       "      <td>4.3</td>\n",
       "      <td>19.0</td>\n",
       "      <td>EA Canada</td>\n",
       "      <td>E</td>\n",
       "    </tr>\n",
       "    <tr>\n",
       "      <th>6872</th>\n",
       "      <td>FIFA 14</td>\n",
       "      <td>3DS</td>\n",
       "      <td>2013</td>\n",
       "      <td>Sports</td>\n",
       "      <td>Electronic Arts</td>\n",
       "      <td>0.00</td>\n",
       "      <td>0.22</td>\n",
       "      <td>0.00</td>\n",
       "      <td>0.01</td>\n",
       "      <td>0.24</td>\n",
       "      <td>NaN</td>\n",
       "      <td>NaN</td>\n",
       "      <td>NaN</td>\n",
       "      <td>NaN</td>\n",
       "      <td>NaN</td>\n",
       "      <td>NaN</td>\n",
       "    </tr>\n",
       "    <tr>\n",
       "      <th>7876</th>\n",
       "      <td>FIFA 14</td>\n",
       "      <td>PSP</td>\n",
       "      <td>2013</td>\n",
       "      <td>Sports</td>\n",
       "      <td>Electronic Arts</td>\n",
       "      <td>0.00</td>\n",
       "      <td>0.15</td>\n",
       "      <td>0.00</td>\n",
       "      <td>0.04</td>\n",
       "      <td>0.19</td>\n",
       "      <td>NaN</td>\n",
       "      <td>NaN</td>\n",
       "      <td>3.4</td>\n",
       "      <td>23.0</td>\n",
       "      <td>EA Canada</td>\n",
       "      <td>E</td>\n",
       "    </tr>\n",
       "  </tbody>\n",
       "</table>\n",
       "</div>"
      ],
      "text/plain": [
       "         Name Platform  Year_of_Release   Genre        Publisher  NA_Sales  \\\n",
       "126   FIFA 14      PS3             2013  Sports  Electronic Arts      0.78   \n",
       "271   FIFA 14     X360             2013  Sports  Electronic Arts      0.92   \n",
       "469   FIFA 14      PS4             2013  Sports  Electronic Arts      0.61   \n",
       "1753  FIFA 14     XOne             2013  Sports  Electronic Arts      0.41   \n",
       "4699  FIFA 14      PSV             2013  Sports  Electronic Arts      0.08   \n",
       "4809  FIFA 14       PC             2013  Sports  Electronic Arts      0.01   \n",
       "4985  FIFA 14      Wii             2013  Sports  Electronic Arts      0.00   \n",
       "6872  FIFA 14      3DS             2013  Sports  Electronic Arts      0.00   \n",
       "7876  FIFA 14      PSP             2013  Sports  Electronic Arts      0.00   \n",
       "\n",
       "      EU_Sales  JP_Sales  Other_Sales  Global_Sales  Critic_Score  \\\n",
       "126       4.24      0.07         1.37          6.47          86.0   \n",
       "271       2.89      0.01         0.40          4.22          84.0   \n",
       "469       1.85      0.11         0.44          3.01          87.0   \n",
       "1753      0.66      0.00         0.09          1.16          88.0   \n",
       "4699      0.23      0.01         0.09          0.41           NaN   \n",
       "4809      0.36      0.00         0.03          0.40          87.0   \n",
       "4985      0.36      0.00         0.02          0.38           NaN   \n",
       "6872      0.22      0.00         0.01          0.24           NaN   \n",
       "7876      0.15      0.00         0.04          0.19           NaN   \n",
       "\n",
       "      Critic_Count  User_Score  User_Count  Developer Rating  \n",
       "126           37.0         4.3       576.0  EA Canada      E  \n",
       "271           41.0         4.2       435.0  EA Canada      E  \n",
       "469           26.0         6.3       616.0  EA Canada      E  \n",
       "1753          22.0         5.8       328.0  EA Canada      E  \n",
       "4699           NaN         1.8        69.0  EA Canada      E  \n",
       "4809           6.0         4.6       441.0  EA Canada      E  \n",
       "4985           NaN         4.3        19.0  EA Canada      E  \n",
       "6872           NaN         NaN         NaN        NaN    NaN  \n",
       "7876           NaN         3.4        23.0  EA Canada      E  "
      ]
     },
     "execution_count": 90,
     "metadata": {},
     "output_type": "execute_result"
    }
   ],
   "source": [
    "# Some games are available in multi platforms so it counts more than one in table \n",
    "df[df['Name']=='FIFA 14']"
   ]
  },
  {
   "cell_type": "markdown",
   "id": "47a23237",
   "metadata": {},
   "source": [
    "XBOX 360 DF"
   ]
  },
  {
   "cell_type": "code",
   "execution_count": 130,
   "id": "d1b9bd0b",
   "metadata": {},
   "outputs": [],
   "source": [
    "df_xbox360 = df.loc[df['Platform'] == 'X360']"
   ]
  },
  {
   "cell_type": "code",
   "execution_count": 131,
   "id": "1f28abf0",
   "metadata": {},
   "outputs": [
    {
     "data": {
      "text/html": [
       "<div>\n",
       "<style scoped>\n",
       "    .dataframe tbody tr th:only-of-type {\n",
       "        vertical-align: middle;\n",
       "    }\n",
       "\n",
       "    .dataframe tbody tr th {\n",
       "        vertical-align: top;\n",
       "    }\n",
       "\n",
       "    .dataframe thead th {\n",
       "        text-align: right;\n",
       "    }\n",
       "</style>\n",
       "<table border=\"1\" class=\"dataframe\">\n",
       "  <thead>\n",
       "    <tr style=\"text-align: right;\">\n",
       "      <th></th>\n",
       "      <th>index</th>\n",
       "      <th>Name</th>\n",
       "      <th>Platform</th>\n",
       "      <th>Year_of_Release</th>\n",
       "      <th>Genre</th>\n",
       "      <th>Publisher</th>\n",
       "      <th>NA_Sales</th>\n",
       "      <th>EU_Sales</th>\n",
       "      <th>JP_Sales</th>\n",
       "      <th>Other_Sales</th>\n",
       "      <th>Global_Sales</th>\n",
       "      <th>Critic_Score</th>\n",
       "      <th>Critic_Count</th>\n",
       "      <th>User_Score</th>\n",
       "      <th>User_Count</th>\n",
       "      <th>Developer</th>\n",
       "      <th>Rating</th>\n",
       "    </tr>\n",
       "  </thead>\n",
       "  <tbody>\n",
       "    <tr>\n",
       "      <th>0</th>\n",
       "      <td>14</td>\n",
       "      <td>Kinect Adventures!</td>\n",
       "      <td>X360</td>\n",
       "      <td>2010</td>\n",
       "      <td>Misc</td>\n",
       "      <td>Microsoft Game Studios</td>\n",
       "      <td>15.00</td>\n",
       "      <td>4.89</td>\n",
       "      <td>0.24</td>\n",
       "      <td>1.69</td>\n",
       "      <td>21.81</td>\n",
       "      <td>61.0</td>\n",
       "      <td>45.0</td>\n",
       "      <td>6.3</td>\n",
       "      <td>106.0</td>\n",
       "      <td>Good Science Studio</td>\n",
       "      <td>E</td>\n",
       "    </tr>\n",
       "    <tr>\n",
       "      <th>1</th>\n",
       "      <td>23</td>\n",
       "      <td>Grand Theft Auto V</td>\n",
       "      <td>X360</td>\n",
       "      <td>2013</td>\n",
       "      <td>Action</td>\n",
       "      <td>Take-Two Interactive</td>\n",
       "      <td>9.66</td>\n",
       "      <td>5.14</td>\n",
       "      <td>0.06</td>\n",
       "      <td>1.41</td>\n",
       "      <td>16.27</td>\n",
       "      <td>97.0</td>\n",
       "      <td>58.0</td>\n",
       "      <td>8.1</td>\n",
       "      <td>3711.0</td>\n",
       "      <td>Rockstar North</td>\n",
       "      <td>M</td>\n",
       "    </tr>\n",
       "    <tr>\n",
       "      <th>2</th>\n",
       "      <td>29</td>\n",
       "      <td>Call of Duty: Modern Warfare 3</td>\n",
       "      <td>X360</td>\n",
       "      <td>2011</td>\n",
       "      <td>Shooter</td>\n",
       "      <td>Activision</td>\n",
       "      <td>9.04</td>\n",
       "      <td>4.24</td>\n",
       "      <td>0.13</td>\n",
       "      <td>1.32</td>\n",
       "      <td>14.73</td>\n",
       "      <td>88.0</td>\n",
       "      <td>81.0</td>\n",
       "      <td>3.4</td>\n",
       "      <td>8713.0</td>\n",
       "      <td>Infinity Ward, Sledgehammer Games</td>\n",
       "      <td>M</td>\n",
       "    </tr>\n",
       "    <tr>\n",
       "      <th>3</th>\n",
       "      <td>32</td>\n",
       "      <td>Call of Duty: Black Ops</td>\n",
       "      <td>X360</td>\n",
       "      <td>2010</td>\n",
       "      <td>Shooter</td>\n",
       "      <td>Activision</td>\n",
       "      <td>9.70</td>\n",
       "      <td>3.68</td>\n",
       "      <td>0.11</td>\n",
       "      <td>1.13</td>\n",
       "      <td>14.61</td>\n",
       "      <td>87.0</td>\n",
       "      <td>89.0</td>\n",
       "      <td>6.3</td>\n",
       "      <td>1454.0</td>\n",
       "      <td>Treyarch</td>\n",
       "      <td>M</td>\n",
       "    </tr>\n",
       "    <tr>\n",
       "      <th>4</th>\n",
       "      <td>35</td>\n",
       "      <td>Call of Duty: Black Ops II</td>\n",
       "      <td>X360</td>\n",
       "      <td>2012</td>\n",
       "      <td>Shooter</td>\n",
       "      <td>Activision</td>\n",
       "      <td>8.25</td>\n",
       "      <td>4.24</td>\n",
       "      <td>0.07</td>\n",
       "      <td>1.12</td>\n",
       "      <td>13.67</td>\n",
       "      <td>83.0</td>\n",
       "      <td>73.0</td>\n",
       "      <td>4.8</td>\n",
       "      <td>2256.0</td>\n",
       "      <td>Treyarch</td>\n",
       "      <td>M</td>\n",
       "    </tr>\n",
       "  </tbody>\n",
       "</table>\n",
       "</div>"
      ],
      "text/plain": [
       "   index                            Name Platform  Year_of_Release    Genre  \\\n",
       "0     14              Kinect Adventures!     X360             2010     Misc   \n",
       "1     23              Grand Theft Auto V     X360             2013   Action   \n",
       "2     29  Call of Duty: Modern Warfare 3     X360             2011  Shooter   \n",
       "3     32         Call of Duty: Black Ops     X360             2010  Shooter   \n",
       "4     35      Call of Duty: Black Ops II     X360             2012  Shooter   \n",
       "\n",
       "                Publisher  NA_Sales  EU_Sales  JP_Sales  Other_Sales  \\\n",
       "0  Microsoft Game Studios     15.00      4.89      0.24         1.69   \n",
       "1    Take-Two Interactive      9.66      5.14      0.06         1.41   \n",
       "2              Activision      9.04      4.24      0.13         1.32   \n",
       "3              Activision      9.70      3.68      0.11         1.13   \n",
       "4              Activision      8.25      4.24      0.07         1.12   \n",
       "\n",
       "   Global_Sales  Critic_Score  Critic_Count  User_Score  User_Count  \\\n",
       "0         21.81          61.0          45.0         6.3       106.0   \n",
       "1         16.27          97.0          58.0         8.1      3711.0   \n",
       "2         14.73          88.0          81.0         3.4      8713.0   \n",
       "3         14.61          87.0          89.0         6.3      1454.0   \n",
       "4         13.67          83.0          73.0         4.8      2256.0   \n",
       "\n",
       "                           Developer Rating  \n",
       "0                Good Science Studio      E  \n",
       "1                     Rockstar North      M  \n",
       "2  Infinity Ward, Sledgehammer Games      M  \n",
       "3                           Treyarch      M  \n",
       "4                           Treyarch      M  "
      ]
     },
     "execution_count": 131,
     "metadata": {},
     "output_type": "execute_result"
    }
   ],
   "source": [
    "df_xbox360.reset_index().head(5)"
   ]
  },
  {
   "cell_type": "code",
   "execution_count": 135,
   "id": "0766e8d8",
   "metadata": {},
   "outputs": [
    {
     "name": "stdout",
     "output_type": "stream",
     "text": [
      "<class 'pandas.core.frame.DataFrame'>\n",
      "Index: 1232 entries, 14 to 16715\n",
      "Data columns (total 16 columns):\n",
      " #   Column           Non-Null Count  Dtype  \n",
      "---  ------           --------------  -----  \n",
      " 0   Name             1232 non-null   object \n",
      " 1   Platform         1232 non-null   object \n",
      " 2   Year_of_Release  1232 non-null   int32  \n",
      " 3   Genre            1232 non-null   object \n",
      " 4   Publisher        1232 non-null   object \n",
      " 5   NA_Sales         1232 non-null   float64\n",
      " 6   EU_Sales         1232 non-null   float64\n",
      " 7   JP_Sales         1232 non-null   float64\n",
      " 8   Other_Sales      1232 non-null   float64\n",
      " 9   Global_Sales     1232 non-null   float64\n",
      " 10  Critic_Score     894 non-null    float64\n",
      " 11  Critic_Count     894 non-null    float64\n",
      " 12  User_Score       945 non-null    float64\n",
      " 13  User_Count       945 non-null    float64\n",
      " 14  Developer        1035 non-null   object \n",
      " 15  Rating           1030 non-null   object \n",
      "dtypes: float64(9), int32(1), object(6)\n",
      "memory usage: 158.8+ KB\n"
     ]
    }
   ],
   "source": [
    "df_xbox360.info()"
   ]
  },
  {
   "cell_type": "code",
   "execution_count": 139,
   "id": "c497a0b3",
   "metadata": {},
   "outputs": [
    {
     "data": {
      "text/html": [
       "<div>\n",
       "<style scoped>\n",
       "    .dataframe tbody tr th:only-of-type {\n",
       "        vertical-align: middle;\n",
       "    }\n",
       "\n",
       "    .dataframe tbody tr th {\n",
       "        vertical-align: top;\n",
       "    }\n",
       "\n",
       "    .dataframe thead th {\n",
       "        text-align: right;\n",
       "    }\n",
       "</style>\n",
       "<table border=\"1\" class=\"dataframe\">\n",
       "  <thead>\n",
       "    <tr style=\"text-align: right;\">\n",
       "      <th></th>\n",
       "      <th>Year_of_Release</th>\n",
       "      <th>NA_Sales</th>\n",
       "      <th>EU_Sales</th>\n",
       "      <th>JP_Sales</th>\n",
       "      <th>Other_Sales</th>\n",
       "      <th>Global_Sales</th>\n",
       "      <th>Critic_Score</th>\n",
       "      <th>Critic_Count</th>\n",
       "      <th>User_Score</th>\n",
       "      <th>User_Count</th>\n",
       "    </tr>\n",
       "  </thead>\n",
       "  <tbody>\n",
       "    <tr>\n",
       "      <th>count</th>\n",
       "      <td>1232.00</td>\n",
       "      <td>1232.00</td>\n",
       "      <td>1232.00</td>\n",
       "      <td>1232.00</td>\n",
       "      <td>1232.00</td>\n",
       "      <td>1232.00</td>\n",
       "      <td>894.00</td>\n",
       "      <td>894.00</td>\n",
       "      <td>945.00</td>\n",
       "      <td>945.00</td>\n",
       "    </tr>\n",
       "    <tr>\n",
       "      <th>mean</th>\n",
       "      <td>2009.88</td>\n",
       "      <td>0.48</td>\n",
       "      <td>0.22</td>\n",
       "      <td>0.01</td>\n",
       "      <td>0.07</td>\n",
       "      <td>0.78</td>\n",
       "      <td>68.69</td>\n",
       "      <td>42.25</td>\n",
       "      <td>6.68</td>\n",
       "      <td>189.86</td>\n",
       "    </tr>\n",
       "    <tr>\n",
       "      <th>std</th>\n",
       "      <td>2.46</td>\n",
       "      <td>1.04</td>\n",
       "      <td>0.48</td>\n",
       "      <td>0.02</td>\n",
       "      <td>0.14</td>\n",
       "      <td>1.63</td>\n",
       "      <td>15.09</td>\n",
       "      <td>22.88</td>\n",
       "      <td>1.44</td>\n",
       "      <td>520.02</td>\n",
       "    </tr>\n",
       "    <tr>\n",
       "      <th>min</th>\n",
       "      <td>2005.00</td>\n",
       "      <td>0.00</td>\n",
       "      <td>0.00</td>\n",
       "      <td>0.00</td>\n",
       "      <td>0.00</td>\n",
       "      <td>0.01</td>\n",
       "      <td>19.00</td>\n",
       "      <td>3.00</td>\n",
       "      <td>0.70</td>\n",
       "      <td>4.00</td>\n",
       "    </tr>\n",
       "    <tr>\n",
       "      <th>25%</th>\n",
       "      <td>2008.00</td>\n",
       "      <td>0.08</td>\n",
       "      <td>0.01</td>\n",
       "      <td>0.00</td>\n",
       "      <td>0.01</td>\n",
       "      <td>0.11</td>\n",
       "      <td>59.00</td>\n",
       "      <td>24.00</td>\n",
       "      <td>5.90</td>\n",
       "      <td>19.00</td>\n",
       "    </tr>\n",
       "    <tr>\n",
       "      <th>50%</th>\n",
       "      <td>2010.00</td>\n",
       "      <td>0.18</td>\n",
       "      <td>0.05</td>\n",
       "      <td>0.00</td>\n",
       "      <td>0.02</td>\n",
       "      <td>0.28</td>\n",
       "      <td>71.00</td>\n",
       "      <td>42.00</td>\n",
       "      <td>7.00</td>\n",
       "      <td>48.00</td>\n",
       "    </tr>\n",
       "    <tr>\n",
       "      <th>75%</th>\n",
       "      <td>2011.00</td>\n",
       "      <td>0.46</td>\n",
       "      <td>0.22</td>\n",
       "      <td>0.01</td>\n",
       "      <td>0.07</td>\n",
       "      <td>0.77</td>\n",
       "      <td>80.00</td>\n",
       "      <td>59.00</td>\n",
       "      <td>7.80</td>\n",
       "      <td>134.00</td>\n",
       "    </tr>\n",
       "    <tr>\n",
       "      <th>max</th>\n",
       "      <td>2016.00</td>\n",
       "      <td>15.00</td>\n",
       "      <td>5.14</td>\n",
       "      <td>0.24</td>\n",
       "      <td>1.69</td>\n",
       "      <td>21.81</td>\n",
       "      <td>98.00</td>\n",
       "      <td>100.00</td>\n",
       "      <td>9.00</td>\n",
       "      <td>8713.00</td>\n",
       "    </tr>\n",
       "  </tbody>\n",
       "</table>\n",
       "</div>"
      ],
      "text/plain": [
       "       Year_of_Release  NA_Sales  EU_Sales  JP_Sales  Other_Sales  \\\n",
       "count          1232.00   1232.00   1232.00   1232.00      1232.00   \n",
       "mean           2009.88      0.48      0.22      0.01         0.07   \n",
       "std               2.46      1.04      0.48      0.02         0.14   \n",
       "min            2005.00      0.00      0.00      0.00         0.00   \n",
       "25%            2008.00      0.08      0.01      0.00         0.01   \n",
       "50%            2010.00      0.18      0.05      0.00         0.02   \n",
       "75%            2011.00      0.46      0.22      0.01         0.07   \n",
       "max            2016.00     15.00      5.14      0.24         1.69   \n",
       "\n",
       "       Global_Sales  Critic_Score  Critic_Count  User_Score  User_Count  \n",
       "count       1232.00        894.00        894.00      945.00      945.00  \n",
       "mean           0.78         68.69         42.25        6.68      189.86  \n",
       "std            1.63         15.09         22.88        1.44      520.02  \n",
       "min            0.01         19.00          3.00        0.70        4.00  \n",
       "25%            0.11         59.00         24.00        5.90       19.00  \n",
       "50%            0.28         71.00         42.00        7.00       48.00  \n",
       "75%            0.77         80.00         59.00        7.80      134.00  \n",
       "max           21.81         98.00        100.00        9.00     8713.00  "
      ]
     },
     "execution_count": 139,
     "metadata": {},
     "output_type": "execute_result"
    }
   ],
   "source": [
    "df_xbox360.describe().round(2)"
   ]
  },
  {
   "cell_type": "code",
   "execution_count": 133,
   "id": "ae65c828",
   "metadata": {},
   "outputs": [
    {
     "data": {
      "text/plain": [
       "Name\n",
       "Need for Speed: Most Wanted                                    2\n",
       "Kinect Adventures!                                             1\n",
       "World Series of Poker: Tournament of Champions 2007 Edition    1\n",
       "Sherlock Holmes vs. Jack the Ripper                            1\n",
       "Amped 3                                                        1\n",
       "                                                              ..\n",
       "Dragon Age: Inquisition                                        1\n",
       "LEGO Dimensions                                                1\n",
       "NHL 14                                                         1\n",
       "Two Worlds II                                                  1\n",
       "LMA Manager 2007                                               1\n",
       "Name: count, Length: 1231, dtype: int64"
      ]
     },
     "execution_count": 133,
     "metadata": {},
     "output_type": "execute_result"
    }
   ],
   "source": [
    "df_xbox360['Name'].value_counts()"
   ]
  },
  {
   "cell_type": "code",
   "execution_count": 134,
   "id": "27735557",
   "metadata": {},
   "outputs": [
    {
     "data": {
      "text/html": [
       "<div>\n",
       "<style scoped>\n",
       "    .dataframe tbody tr th:only-of-type {\n",
       "        vertical-align: middle;\n",
       "    }\n",
       "\n",
       "    .dataframe tbody tr th {\n",
       "        vertical-align: top;\n",
       "    }\n",
       "\n",
       "    .dataframe thead th {\n",
       "        text-align: right;\n",
       "    }\n",
       "</style>\n",
       "<table border=\"1\" class=\"dataframe\">\n",
       "  <thead>\n",
       "    <tr style=\"text-align: right;\">\n",
       "      <th></th>\n",
       "      <th>Name</th>\n",
       "      <th>Platform</th>\n",
       "      <th>Year_of_Release</th>\n",
       "      <th>Genre</th>\n",
       "      <th>Publisher</th>\n",
       "      <th>NA_Sales</th>\n",
       "      <th>EU_Sales</th>\n",
       "      <th>JP_Sales</th>\n",
       "      <th>Other_Sales</th>\n",
       "      <th>Global_Sales</th>\n",
       "      <th>Critic_Score</th>\n",
       "      <th>Critic_Count</th>\n",
       "      <th>User_Score</th>\n",
       "      <th>User_Count</th>\n",
       "      <th>Developer</th>\n",
       "      <th>Rating</th>\n",
       "    </tr>\n",
       "  </thead>\n",
       "  <tbody>\n",
       "    <tr>\n",
       "      <th>1190</th>\n",
       "      <td>Need for Speed: Most Wanted</td>\n",
       "      <td>X360</td>\n",
       "      <td>2012</td>\n",
       "      <td>Racing</td>\n",
       "      <td>Electronic Arts</td>\n",
       "      <td>0.62</td>\n",
       "      <td>0.78</td>\n",
       "      <td>0.01</td>\n",
       "      <td>0.15</td>\n",
       "      <td>1.56</td>\n",
       "      <td>83.0</td>\n",
       "      <td>54.0</td>\n",
       "      <td>8.5</td>\n",
       "      <td>134.0</td>\n",
       "      <td>EA Canada</td>\n",
       "      <td>T</td>\n",
       "    </tr>\n",
       "    <tr>\n",
       "      <th>1591</th>\n",
       "      <td>Need for Speed: Most Wanted</td>\n",
       "      <td>X360</td>\n",
       "      <td>2005</td>\n",
       "      <td>Racing</td>\n",
       "      <td>Electronic Arts</td>\n",
       "      <td>1.00</td>\n",
       "      <td>0.13</td>\n",
       "      <td>0.02</td>\n",
       "      <td>0.10</td>\n",
       "      <td>1.25</td>\n",
       "      <td>83.0</td>\n",
       "      <td>54.0</td>\n",
       "      <td>8.5</td>\n",
       "      <td>134.0</td>\n",
       "      <td>EA Canada</td>\n",
       "      <td>T</td>\n",
       "    </tr>\n",
       "  </tbody>\n",
       "</table>\n",
       "</div>"
      ],
      "text/plain": [
       "                             Name Platform  Year_of_Release   Genre  \\\n",
       "1190  Need for Speed: Most Wanted     X360             2012  Racing   \n",
       "1591  Need for Speed: Most Wanted     X360             2005  Racing   \n",
       "\n",
       "            Publisher  NA_Sales  EU_Sales  JP_Sales  Other_Sales  \\\n",
       "1190  Electronic Arts      0.62      0.78      0.01         0.15   \n",
       "1591  Electronic Arts      1.00      0.13      0.02         0.10   \n",
       "\n",
       "      Global_Sales  Critic_Score  Critic_Count  User_Score  User_Count  \\\n",
       "1190          1.56          83.0          54.0         8.5       134.0   \n",
       "1591          1.25          83.0          54.0         8.5       134.0   \n",
       "\n",
       "      Developer Rating  \n",
       "1190  EA Canada      T  \n",
       "1591  EA Canada      T  "
      ]
     },
     "execution_count": 134,
     "metadata": {},
     "output_type": "execute_result"
    }
   ],
   "source": [
    "# Discoreving why Need for speed has 2 appearences\n",
    "df_xbox360.loc[df['Name'] == 'Need for Speed: Most Wanted']"
   ]
  },
  {
   "cell_type": "code",
   "execution_count": 146,
   "id": "e066ec96",
   "metadata": {},
   "outputs": [],
   "source": [
    "xbox360_developers = df_xbox360['Developer'].value_counts()"
   ]
  },
  {
   "cell_type": "code",
   "execution_count": 147,
   "id": "9d6b7da0",
   "metadata": {},
   "outputs": [
    {
     "data": {
      "text/plain": [
       "pandas.core.series.Series"
      ]
     },
     "execution_count": 147,
     "metadata": {},
     "output_type": "execute_result"
    }
   ],
   "source": [
    "type(xbox360_developers)"
   ]
  },
  {
   "cell_type": "code",
   "execution_count": 148,
   "id": "8b03cd1d",
   "metadata": {},
   "outputs": [],
   "source": [
    "# xbox360_developers_df.loc[xbox360_developers_df.values >= 20]\n",
    "xbox_top_ten_dev = xbox360_developers.nlargest(10)"
   ]
  },
  {
   "cell_type": "code",
   "execution_count": 149,
   "id": "95c65569",
   "metadata": {},
   "outputs": [
    {
     "data": {
      "text/plain": [
       "Developer\n",
       "EA Canada                 29\n",
       "Ubisoft                   22\n",
       "EA Tiburon                20\n",
       "Ubisoft Montreal          20\n",
       "Konami                    20\n",
       "EA Sports                 18\n",
       "Visual Concepts           17\n",
       "Yuke's                    14\n",
       "Omega Force               13\n",
       "Harmonix Music Systems    13\n",
       "Name: count, dtype: int64"
      ]
     },
     "execution_count": 149,
     "metadata": {},
     "output_type": "execute_result"
    }
   ],
   "source": [
    "xbox_top_ten_dev"
   ]
  },
  {
   "cell_type": "code",
   "execution_count": 151,
   "id": "3ad32abc",
   "metadata": {},
   "outputs": [
    {
     "data": {
      "text/plain": [
       "Text(0.5, 1.0, 'Top 10 Xbox 360 Developers')"
      ]
     },
     "execution_count": 151,
     "metadata": {},
     "output_type": "execute_result"
    },
    {
     "data": {
      "image/png": "[encoded data removed]",
      "text/plain": [
       "<Figure size 640x480 with 1 Axes>"
      ]
     },
     "metadata": {},
     "output_type": "display_data"
    }
   ],
   "source": [
    "xbox_top_ten_dev.plot(kind='bar')\n",
    "plt.title('Top 10 Xbox 360 Developers')"
   ]
  },
  {
   "cell_type": "code",
   "execution_count": 153,
   "id": "200f2e27",
   "metadata": {},
   "outputs": [],
   "source": [
    "xboxdf_top_ten_UserScore = df_xbox360.dropna(subset=['User_Score'])"
   ]
  },
  {
   "cell_type": "code",
   "execution_count": 160,
   "id": "07a00a03",
   "metadata": {},
   "outputs": [
    {
     "name": "stdout",
     "output_type": "stream",
     "text": [
      "<class 'pandas.core.frame.DataFrame'>\n",
      "Index: 945 entries, 14 to 16658\n",
      "Data columns (total 16 columns):\n",
      " #   Column           Non-Null Count  Dtype  \n",
      "---  ------           --------------  -----  \n",
      " 0   Name             945 non-null    object \n",
      " 1   Platform         945 non-null    object \n",
      " 2   Year_of_Release  945 non-null    int32  \n",
      " 3   Genre            945 non-null    object \n",
      " 4   Publisher        945 non-null    object \n",
      " 5   NA_Sales         945 non-null    float64\n",
      " 6   EU_Sales         945 non-null    float64\n",
      " 7   JP_Sales         945 non-null    float64\n",
      " 8   Other_Sales      945 non-null    float64\n",
      " 9   Global_Sales     945 non-null    float64\n",
      " 10  Critic_Score     861 non-null    float64\n",
      " 11  Critic_Count     861 non-null    float64\n",
      " 12  User_Score       945 non-null    float64\n",
      " 13  User_Count       945 non-null    float64\n",
      " 14  Developer        942 non-null    object \n",
      " 15  Rating           939 non-null    object \n",
      "dtypes: float64(9), int32(1), object(6)\n",
      "memory usage: 121.8+ KB\n"
     ]
    }
   ],
   "source": [
    "xboxdf_top_ten_UserScore.info()"
   ]
  },
  {
   "cell_type": "code",
   "execution_count": 161,
   "id": "58c9d99d",
   "metadata": {},
   "outputs": [
    {
     "data": {
      "text/plain": [
       "Name                0\n",
       "Platform            0\n",
       "Year_of_Release     0\n",
       "Genre               0\n",
       "Publisher           0\n",
       "NA_Sales            0\n",
       "EU_Sales            0\n",
       "JP_Sales            0\n",
       "Other_Sales         0\n",
       "Global_Sales        0\n",
       "Critic_Score       84\n",
       "Critic_Count       84\n",
       "User_Score          0\n",
       "User_Count          0\n",
       "Developer           3\n",
       "Rating              6\n",
       "dtype: int64"
      ]
     },
     "execution_count": 161,
     "metadata": {},
     "output_type": "execute_result"
    }
   ],
   "source": [
    "xboxdf_top_ten_UserScore.isnull().sum()"
   ]
  },
  {
   "cell_type": "code",
   "execution_count": 169,
   "id": "6c5b7b12",
   "metadata": {},
   "outputs": [],
   "source": [
    "a = df_xbox360.loc[df_xbox360['User_Score'] >= 8]"
   ]
  },
  {
   "cell_type": "code",
   "execution_count": 181,
   "id": "670c5e07",
   "metadata": {},
   "outputs": [
    {
     "data": {
      "text/plain": [
       "User_Score\n",
       "9.0     2\n",
       "8.9     4\n",
       "8.8     6\n",
       "8.7    10\n",
       "8.6    12\n",
       "8.5    12\n",
       "8.4    20\n",
       "8.3    24\n",
       "8.2    28\n",
       "8.1    27\n",
       "8.0    29\n",
       "Name: count, dtype: int64"
      ]
     },
     "execution_count": 181,
     "metadata": {},
     "output_type": "execute_result"
    }
   ],
   "source": [
    "a['User_Score'].value_counts().sort_index(ascending=False)"
   ]
  },
  {
   "cell_type": "code",
   "execution_count": 96,
   "id": "68af4ed9",
   "metadata": {},
   "outputs": [
    {
     "name": "stdout",
     "output_type": "stream",
     "text": [
      "['Sports' 'Platform' 'Racing' 'Role-Playing' 'Puzzle' 'Misc' 'Shooter'\n",
      " 'Simulation' 'Action' 'Fighting' 'Adventure' 'Strategy']\n"
     ]
    }
   ],
   "source": [
    "# VER VALORES UNICOS \n",
    "valores_unicos = df['Genre'].unique()\n",
    "\n",
    "print(valores_unicos)\n"
   ]
  },
  {
   "cell_type": "code",
   "execution_count": 97,
   "id": "3d334b1f",
   "metadata": {},
   "outputs": [
    {
     "name": "stdout",
     "output_type": "stream",
     "text": [
      "['Wii' 'NES' 'GB' 'DS' 'X360' 'PS3' 'PS2' 'SNES' 'GBA' 'PS4' '3DS' 'N64'\n",
      " 'PS' 'XB' 'PC' '2600' 'PSP' 'XOne' 'WiiU' 'GC' 'GEN' 'DC' 'PSV' 'SAT'\n",
      " 'SCD' 'WS' 'NG' 'TG16' '3DO' 'GG' 'PCFX']\n"
     ]
    }
   ],
   "source": [
    "# VER VALORES UNICOS \n",
    "valores_unicos2 = df['Platform'].unique()\n",
    "\n",
    "print(valores_unicos2)\n"
   ]
  },
  {
   "cell_type": "code",
   "execution_count": 98,
   "id": "7c2da155",
   "metadata": {},
   "outputs": [],
   "source": [
    "contagem = df['Platform'].value_counts()"
   ]
  },
  {
   "cell_type": "code",
   "execution_count": 99,
   "id": "0ca8f820",
   "metadata": {
    "scrolled": false
   },
   "outputs": [
    {
     "data": {
      "image/png": "[encoded data removed]",
      "text/plain": [
       "<Figure size 640x480 with 1 Axes>"
      ]
     },
     "metadata": {},
     "output_type": "display_data"
    }
   ],
   "source": [
    "fig, ax = plt.subplots()\n",
    "contagem = df['Platform'].value_counts()\n",
    "bars = ax.bar(contagem.index, contagem.values)\n",
    "\n",
    "ax.set_title('Total games launched per Platform')\n",
    "plt.xticks(rotation=90)\n",
    "\n",
    "# Add data labels\n",
    "for bar in bars:\n",
    "    yval = bar.get_height()\n",
    "    ax.text(bar.get_x() + bar.get_width()/3, yval+30, int(yval), va='bottom', rotation=90) # va: vertical alignment\n",
    "\n",
    "plt.show()"
   ]
  },
  {
   "cell_type": "code",
   "execution_count": 100,
   "id": "fadd9bfd",
   "metadata": {},
   "outputs": [],
   "source": [
    "df2= df.query('2000 <= Year_of_Release <= 2015')\n",
    "df2  = df2.head(100)"
   ]
  },
  {
   "cell_type": "code",
   "execution_count": 101,
   "id": "53f8f49b",
   "metadata": {},
   "outputs": [
    {
     "data": {
      "text/plain": [
       "Index(['Name', 'Platform', 'Year_of_Release', 'Genre', 'Publisher', 'NA_Sales',\n",
       "       'EU_Sales', 'JP_Sales', 'Other_Sales', 'Global_Sales', 'Critic_Score',\n",
       "       'Critic_Count', 'User_Score', 'User_Count', 'Developer', 'Rating'],\n",
       "      dtype='object')"
      ]
     },
     "execution_count": 101,
     "metadata": {},
     "output_type": "execute_result"
    }
   ],
   "source": [
    "df.columns"
   ]
  },
  {
   "cell_type": "code",
   "execution_count": 102,
   "id": "e549a3ee",
   "metadata": {},
   "outputs": [],
   "source": [
    "df2_group_year = df2.groupby(['Year_of_Release'])[['NA_Sales','EU_Sales','Other_Sales','Global_Sales','JP_Sales']].sum()"
   ]
  },
  {
   "cell_type": "code",
   "execution_count": 103,
   "id": "8954371a",
   "metadata": {},
   "outputs": [
    {
     "data": {
      "text/html": [
       "<div>\n",
       "<style scoped>\n",
       "    .dataframe tbody tr th:only-of-type {\n",
       "        vertical-align: middle;\n",
       "    }\n",
       "\n",
       "    .dataframe tbody tr th {\n",
       "        vertical-align: top;\n",
       "    }\n",
       "\n",
       "    .dataframe thead th {\n",
       "        text-align: right;\n",
       "    }\n",
       "</style>\n",
       "<table border=\"1\" class=\"dataframe\">\n",
       "  <thead>\n",
       "    <tr style=\"text-align: right;\">\n",
       "      <th></th>\n",
       "      <th>NA_Sales</th>\n",
       "      <th>EU_Sales</th>\n",
       "      <th>Other_Sales</th>\n",
       "      <th>Global_Sales</th>\n",
       "      <th>JP_Sales</th>\n",
       "    </tr>\n",
       "    <tr>\n",
       "      <th>Year_of_Release</th>\n",
       "      <th></th>\n",
       "      <th></th>\n",
       "      <th></th>\n",
       "      <th></th>\n",
       "      <th></th>\n",
       "    </tr>\n",
       "  </thead>\n",
       "  <tbody>\n",
       "    <tr>\n",
       "      <th>2001</th>\n",
       "      <td>26.14</td>\n",
       "      <td>14.01</td>\n",
       "      <td>3.08</td>\n",
       "      <td>49.63</td>\n",
       "      <td>6.37</td>\n",
       "    </tr>\n",
       "    <tr>\n",
       "      <th>2002</th>\n",
       "      <td>17.40</td>\n",
       "      <td>12.14</td>\n",
       "      <td>3.27</td>\n",
       "      <td>38.83</td>\n",
       "      <td>6.02</td>\n",
       "    </tr>\n",
       "    <tr>\n",
       "      <th>2003</th>\n",
       "      <td>7.39</td>\n",
       "      <td>4.60</td>\n",
       "      <td>1.21</td>\n",
       "      <td>14.15</td>\n",
       "      <td>0.95</td>\n",
       "    </tr>\n",
       "    <tr>\n",
       "      <th>2004</th>\n",
       "      <td>31.32</td>\n",
       "      <td>10.68</td>\n",
       "      <td>20.59</td>\n",
       "      <td>68.65</td>\n",
       "      <td>6.04</td>\n",
       "    </tr>\n",
       "    <tr>\n",
       "      <th>2005</th>\n",
       "      <td>33.99</td>\n",
       "      <td>41.98</td>\n",
       "      <td>11.07</td>\n",
       "      <td>109.76</td>\n",
       "      <td>22.71</td>\n",
       "    </tr>\n",
       "  </tbody>\n",
       "</table>\n",
       "</div>"
      ],
      "text/plain": [
       "                 NA_Sales  EU_Sales  Other_Sales  Global_Sales  JP_Sales\n",
       "Year_of_Release                                                         \n",
       "2001                26.14     14.01         3.08         49.63      6.37\n",
       "2002                17.40     12.14         3.27         38.83      6.02\n",
       "2003                 7.39      4.60         1.21         14.15      0.95\n",
       "2004                31.32     10.68        20.59         68.65      6.04\n",
       "2005                33.99     41.98        11.07        109.76     22.71"
      ]
     },
     "execution_count": 103,
     "metadata": {},
     "output_type": "execute_result"
    }
   ],
   "source": [
    "df2_group_year.head()"
   ]
  },
  {
   "cell_type": "code",
   "execution_count": 104,
   "id": "75e9dd40",
   "metadata": {},
   "outputs": [
    {
     "data": {
      "text/plain": [
       "(15, 5)"
      ]
     },
     "execution_count": 104,
     "metadata": {},
     "output_type": "execute_result"
    }
   ],
   "source": [
    "df2_group_year.shape"
   ]
  },
  {
   "cell_type": "code",
   "execution_count": 105,
   "id": "02b7421b",
   "metadata": {},
   "outputs": [
    {
     "data": {
      "text/plain": [
       "Index(['Name', 'Platform', 'Year_of_Release', 'Genre', 'Publisher', 'NA_Sales',\n",
       "       'EU_Sales', 'JP_Sales', 'Other_Sales', 'Global_Sales', 'Critic_Score',\n",
       "       'Critic_Count', 'User_Score', 'User_Count', 'Developer', 'Rating'],\n",
       "      dtype='object')"
      ]
     },
     "execution_count": 105,
     "metadata": {},
     "output_type": "execute_result"
    }
   ],
   "source": [
    "df2.columns"
   ]
  },
  {
   "cell_type": "code",
   "execution_count": 106,
   "id": "77ff9444",
   "metadata": {},
   "outputs": [],
   "source": [
    "region = ['NA_Sales','Global_Sales','JP_Sales','EU_Sales']"
   ]
  },
  {
   "cell_type": "code",
   "execution_count": 107,
   "id": "98f18451",
   "metadata": {},
   "outputs": [
    {
     "data": {
      "image/png": "[encoded data removed]",
      "text/plain": [
       "<Figure size 800x2000 with 4 Axes>"
      ]
     },
     "metadata": {},
     "output_type": "display_data"
    }
   ],
   "source": [
    "fig, axs = plt.subplots(len(region), figsize=(8, 5*len(region)))\n",
    "\n",
    "for i, reg in enumerate(region):\n",
    "    #plota grafico\n",
    "    axs[i].bar(df2_group_year.index, df2_group_year[reg], label=reg)\n",
    "\n",
    "    #altera eixo x\n",
    "    axs[i].set_xticks(df2_group_year.index)\n",
    "    axs[i].set_xticklabels(df2_group_year.index, rotation=90)\n",
    "\n",
    "    #adiciona legenda\n",
    "    axs[i].legend([reg])\n",
    "\n",
    "plt.tight_layout()\n",
    "plt.show()"
   ]
  },
  {
   "cell_type": "code",
   "execution_count": 46,
   "id": "e4cd5600",
   "metadata": {},
   "outputs": [
    {
     "data": {
      "text/plain": [
       "<matplotlib.legend.Legend at 0x1434c922de0>"
      ]
     },
     "execution_count": 46,
     "metadata": {},
     "output_type": "execute_result"
    },
    {
     "data": {
      "image/png": "[encoded data removed]",
      "text/plain": [
       "<Figure size 800x500 with 1 Axes>"
      ]
     },
     "metadata": {},
     "output_type": "display_data"
    }
   ],
   "source": [
    "#plota como figura, adiciona dimensoes para a plotagem\n",
    "plt.figure(figsize=(8,5))\n",
    "\n",
    "#plota grafico\n",
    "plt.bar(df2_group_year.index, df2_group_year.NA_Sales, label='NA sales')\n",
    "plt.bar(df2_group_year.index, df2_group_year.EU_Sales, label='EU sales')\n",
    "\n",
    "#altera eixo x\n",
    "plt.xticks(df2_group_year.index[::3],rotation=90)\n",
    "\n",
    "# Adiciona titulo aos eixos\n",
    "plt.xlabel('Year')\n",
    "plt.ylabel('US Dollars')\n",
    "\n",
    "#adiciona legenda\n",
    "plt.legend()\n"
   ]
  },
  {
   "cell_type": "code",
   "execution_count": 36,
   "id": "600b8232",
   "metadata": {},
   "outputs": [
    {
     "data": {
      "text/plain": [
       "Index([2001.0, 2004.0, 2007.0, 2010.0, 2013.0], dtype='float64', name='Year_of_Release')"
      ]
     },
     "execution_count": 36,
     "metadata": {},
     "output_type": "execute_result"
    }
   ],
   "source": [
    "df2_group_year.index[::3]"
   ]
  },
  {
   "cell_type": "code",
   "execution_count": 117,
   "id": "3152706d",
   "metadata": {},
   "outputs": [
    {
     "data": {
      "text/html": [
       "<div>\n",
       "<style scoped>\n",
       "    .dataframe tbody tr th:only-of-type {\n",
       "        vertical-align: middle;\n",
       "    }\n",
       "\n",
       "    .dataframe tbody tr th {\n",
       "        vertical-align: top;\n",
       "    }\n",
       "\n",
       "    .dataframe thead th {\n",
       "        text-align: right;\n",
       "    }\n",
       "</style>\n",
       "<table border=\"1\" class=\"dataframe\">\n",
       "  <thead>\n",
       "    <tr style=\"text-align: right;\">\n",
       "      <th></th>\n",
       "      <th>NA_Sales</th>\n",
       "      <th>EU_Sales</th>\n",
       "      <th>Other_Sales</th>\n",
       "      <th>Global_Sales</th>\n",
       "      <th>JP_Sales</th>\n",
       "    </tr>\n",
       "    <tr>\n",
       "      <th>Year_of_Release</th>\n",
       "      <th></th>\n",
       "      <th></th>\n",
       "      <th></th>\n",
       "      <th></th>\n",
       "      <th></th>\n",
       "    </tr>\n",
       "  </thead>\n",
       "  <tbody>\n",
       "    <tr>\n",
       "      <th>2001</th>\n",
       "      <td>26.14</td>\n",
       "      <td>14.01</td>\n",
       "      <td>3.08</td>\n",
       "      <td>49.63</td>\n",
       "      <td>6.37</td>\n",
       "    </tr>\n",
       "    <tr>\n",
       "      <th>2002</th>\n",
       "      <td>17.40</td>\n",
       "      <td>12.14</td>\n",
       "      <td>3.27</td>\n",
       "      <td>38.83</td>\n",
       "      <td>6.02</td>\n",
       "    </tr>\n",
       "    <tr>\n",
       "      <th>2003</th>\n",
       "      <td>7.39</td>\n",
       "      <td>4.60</td>\n",
       "      <td>1.21</td>\n",
       "      <td>14.15</td>\n",
       "      <td>0.95</td>\n",
       "    </tr>\n",
       "    <tr>\n",
       "      <th>2004</th>\n",
       "      <td>31.32</td>\n",
       "      <td>10.68</td>\n",
       "      <td>20.59</td>\n",
       "      <td>68.65</td>\n",
       "      <td>6.04</td>\n",
       "    </tr>\n",
       "    <tr>\n",
       "      <th>2005</th>\n",
       "      <td>33.99</td>\n",
       "      <td>41.98</td>\n",
       "      <td>11.07</td>\n",
       "      <td>109.76</td>\n",
       "      <td>22.71</td>\n",
       "    </tr>\n",
       "    <tr>\n",
       "      <th>2006</th>\n",
       "      <td>76.72</td>\n",
       "      <td>53.88</td>\n",
       "      <td>16.21</td>\n",
       "      <td>166.65</td>\n",
       "      <td>19.84</td>\n",
       "    </tr>\n",
       "    <tr>\n",
       "      <th>2007</th>\n",
       "      <td>42.70</td>\n",
       "      <td>26.76</td>\n",
       "      <td>8.32</td>\n",
       "      <td>87.33</td>\n",
       "      <td>9.56</td>\n",
       "    </tr>\n",
       "    <tr>\n",
       "      <th>2008</th>\n",
       "      <td>45.54</td>\n",
       "      <td>27.57</td>\n",
       "      <td>8.81</td>\n",
       "      <td>91.72</td>\n",
       "      <td>9.78</td>\n",
       "    </tr>\n",
       "    <tr>\n",
       "      <th>2009</th>\n",
       "      <td>64.65</td>\n",
       "      <td>47.91</td>\n",
       "      <td>12.91</td>\n",
       "      <td>140.59</td>\n",
       "      <td>15.14</td>\n",
       "    </tr>\n",
       "    <tr>\n",
       "      <th>2010</th>\n",
       "      <td>66.72</td>\n",
       "      <td>38.46</td>\n",
       "      <td>12.49</td>\n",
       "      <td>129.72</td>\n",
       "      <td>12.05</td>\n",
       "    </tr>\n",
       "    <tr>\n",
       "      <th>2011</th>\n",
       "      <td>46.42</td>\n",
       "      <td>34.94</td>\n",
       "      <td>10.68</td>\n",
       "      <td>98.31</td>\n",
       "      <td>6.26</td>\n",
       "    </tr>\n",
       "    <tr>\n",
       "      <th>2012</th>\n",
       "      <td>36.12</td>\n",
       "      <td>29.16</td>\n",
       "      <td>9.35</td>\n",
       "      <td>85.67</td>\n",
       "      <td>11.05</td>\n",
       "    </tr>\n",
       "    <tr>\n",
       "      <th>2013</th>\n",
       "      <td>39.27</td>\n",
       "      <td>31.50</td>\n",
       "      <td>10.49</td>\n",
       "      <td>87.17</td>\n",
       "      <td>5.90</td>\n",
       "    </tr>\n",
       "    <tr>\n",
       "      <th>2014</th>\n",
       "      <td>17.54</td>\n",
       "      <td>16.80</td>\n",
       "      <td>4.93</td>\n",
       "      <td>46.59</td>\n",
       "      <td>7.33</td>\n",
       "    </tr>\n",
       "    <tr>\n",
       "      <th>2015</th>\n",
       "      <td>17.26</td>\n",
       "      <td>20.85</td>\n",
       "      <td>6.75</td>\n",
       "      <td>45.73</td>\n",
       "      <td>0.89</td>\n",
       "    </tr>\n",
       "  </tbody>\n",
       "</table>\n",
       "</div>"
      ],
      "text/plain": [
       "                 NA_Sales  EU_Sales  Other_Sales  Global_Sales  JP_Sales\n",
       "Year_of_Release                                                         \n",
       "2001                26.14     14.01         3.08         49.63      6.37\n",
       "2002                17.40     12.14         3.27         38.83      6.02\n",
       "2003                 7.39      4.60         1.21         14.15      0.95\n",
       "2004                31.32     10.68        20.59         68.65      6.04\n",
       "2005                33.99     41.98        11.07        109.76     22.71\n",
       "2006                76.72     53.88        16.21        166.65     19.84\n",
       "2007                42.70     26.76         8.32         87.33      9.56\n",
       "2008                45.54     27.57         8.81         91.72      9.78\n",
       "2009                64.65     47.91        12.91        140.59     15.14\n",
       "2010                66.72     38.46        12.49        129.72     12.05\n",
       "2011                46.42     34.94        10.68         98.31      6.26\n",
       "2012                36.12     29.16         9.35         85.67     11.05\n",
       "2013                39.27     31.50        10.49         87.17      5.90\n",
       "2014                17.54     16.80         4.93         46.59      7.33\n",
       "2015                17.26     20.85         6.75         45.73      0.89"
      ]
     },
     "execution_count": 117,
     "metadata": {},
     "output_type": "execute_result"
    }
   ],
   "source": [
    "df2_group_year"
   ]
  },
  {
   "cell_type": "code",
   "execution_count": null,
   "id": "6d484c6c",
   "metadata": {},
   "outputs": [],
   "source": []
  }
 ],
 "metadata": {
  "kernelspec": {
   "display_name": "Python 3 (ipykernel)",
   "language": "python",
   "name": "python3"
  },
  "language_info": {
   "codemirror_mode": {
    "name": "ipython",
    "version": 3
   },
   "file_extension": ".py",
   "mimetype": "text/x-python",
   "name": "python",
   "nbconvert_exporter": "python",
   "pygments_lexer": "ipython3",
   "version": "3.12.1"
  }
 },
 "nbformat": 4,
 "nbformat_minor": 5
}
