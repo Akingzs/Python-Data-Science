{
 "cells": [
  {
   "cell_type": "markdown",
   "metadata": {},
   "source": [
    "# <font color='blue'>Data Science Academy</font>\n",
    "\n",
    "## <font color='blue'>Fundamentos de Linguagem Python Para Análise de Dados e Data Science</font>\n",
    "\n",
    "## <font color='blue'>Capítulo 5 - Exercícios de Loops e Condicionais</font>"
   ]
  },
  {
   "cell_type": "markdown",
   "metadata": {},
   "source": [
    "## Exercícios - Loops e Condiconais"
   ]
  },
  {
   "cell_type": "code",
   "execution_count": 1,
   "metadata": {},
   "outputs": [
    {
     "name": "stdout",
     "output_type": "stream",
     "text": [
      "Weekend\n"
     ]
    }
   ],
   "source": [
    "# Exercício 1 - Crie uma estrutura que pergunte ao usuário qual o dia da semana. Se o dia for igual a Domingo ou \n",
    "# igual a sábado, imprima na tela \"Hoje é dia de descanso\", caso contrário imprima na tela \"Você precisa trabalhar!\"\n",
    "\n",
    "inp = input('Enter a Weekday:')\n",
    "if inp.lower() == 'sunday' or inp.lower() == 'saturday':\n",
    "    print('Weekend')\n",
    "else:\n",
    "    'Workday'"
   ]
  },
  {
   "cell_type": "code",
   "execution_count": 3,
   "metadata": {},
   "outputs": [],
   "source": [
    "# Exercício 2 - Crie uma lista de 5 frutas e verifique se a fruta 'Morango' faz parte da lista\n",
    "\n",
    "fruits = ['a','b','morango','aa','o']\n",
    "\n",
    "if 'morango' in fruits:\n",
    "    print('Exists')"
   ]
  },
  {
   "cell_type": "code",
   "execution_count": 4,
   "metadata": {},
   "outputs": [
    {
     "data": {
      "text/plain": [
       "[4, 6, 8, 10]"
      ]
     },
     "execution_count": 4,
     "metadata": {},
     "output_type": "execute_result"
    }
   ],
   "source": [
    "# Exercício 3 - Crie uma tupla de 4 elementos, multiplique cada elemento da tupla por 2 e guarde os resultados em uma \n",
    "# lista\n",
    "result = []\n",
    "inp = (2,3,4,5)\n",
    "\n",
    "for _ in inp:\n",
    "    calc = _ * 2\n",
    "    result.append(calc)\n",
    "\n",
    "result"
   ]
  },
  {
   "cell_type": "code",
   "execution_count": 7,
   "metadata": {},
   "outputs": [
    {
     "name": "stdout",
     "output_type": "stream",
     "text": [
      "100 102 104 106 108 110 112 114 116 118 120 122 124 126 128 130 132 134 136 138 140 142 144 146 148 "
     ]
    }
   ],
   "source": [
    "# Exercício 4 - Crie uma sequência de números pares entre 100 e 150 e imprima na tela\n",
    "for i in range(100,150,2):\n",
    "    print(i, end=' ')"
   ]
  },
  {
   "cell_type": "code",
   "execution_count": 10,
   "metadata": {},
   "outputs": [
    {
     "name": "stdout",
     "output_type": "stream",
     "text": [
      "40\n",
      "39\n",
      "38\n",
      "37\n",
      "36\n"
     ]
    }
   ],
   "source": [
    "# Exercício 5 - Crie uma variável chamada temperatura e atribua o valor 40. Enquanto temperatura for maior que 35, \n",
    "# imprima as temperaturas na tela\n",
    "temp = 40 \n",
    "\n",
    "while temp >= 30:\n",
    "    if temp > 35:\n",
    "        print(temp)\n",
    "    \n",
    "    temp -= 1\n"
   ]
  },
  {
   "cell_type": "code",
   "execution_count": 16,
   "metadata": {},
   "outputs": [
    {
     "name": "stdout",
     "output_type": "stream",
     "text": [
      "0 1 2 3 4 5 6 7 8 9 10 11 12 13 14 15 16 17 18 19 20 21 22 24 25 26 27 28 29 "
     ]
    }
   ],
   "source": [
    "# Exercício 6 - Crie uma variável chamada contador = 0. Enquanto counter for menor que 100, imprima os valores na tela,\n",
    "# mas quando for encontrado o valor 23, interrompa a execução do programa\n",
    "contador = 0\n",
    "\n",
    "while contador < 30:\n",
    "    if contador == 23:\n",
    "        print('', end='')\n",
    "    else:\n",
    "        print(contador, end=' ')\n",
    "    contador += 1\n"
   ]
  },
  {
   "cell_type": "code",
   "execution_count": null,
   "metadata": {},
   "outputs": [],
   "source": [
    "# Exercício 7 - Crie uma lista vazia e uma variável com valor 4. Enquanto o valor da variável for menor ou igual a 20, \n",
    "# adicione à lista, apenas os valores pares e imprima a lista"
   ]
  },
  {
   "cell_type": "code",
   "execution_count": 22,
   "metadata": {},
   "outputs": [
    {
     "data": {
      "text/plain": [
       "[5, 7, 9, 11, 13, 15, 17, 19, 21, 23, 25, 27, 29, 31, 33, 35, 37, 39, 41, 43]"
      ]
     },
     "execution_count": 22,
     "metadata": {},
     "output_type": "execute_result"
    }
   ],
   "source": [
    "# Exercício 8 - Transforme o resultado desta função range em uma lista: range(5, 45, 2)\n",
    "nums = range(5, 45, 2)\n",
    "nums = list(nums)\n",
    "nums"
   ]
  },
  {
   "cell_type": "code",
   "execution_count": 23,
   "metadata": {},
   "outputs": [
    {
     "name": "stdout",
     "output_type": "stream",
     "text": [
      "Vista roupas leves.\n"
     ]
    }
   ],
   "source": [
    "# Exercício 9 - Faça a correção dos erros no código abaixo e execute o programa. Dica: são 3 erros.\n",
    "temperatura = float(input('Qual a temperatura? '))\n",
    "if temperatura > 30:\n",
    "    print('Vista roupas leves.')\n",
    "else:\n",
    "    print('Busque seus casacos.')"
   ]
  },
  {
   "cell_type": "code",
   "execution_count": 25,
   "metadata": {},
   "outputs": [
    {
     "data": {
      "text/plain": [
       "5"
      ]
     },
     "execution_count": 25,
     "metadata": {},
     "output_type": "execute_result"
    }
   ],
   "source": [
    "# Exercício 10 - Faça um programa que conte quantas vezes a letra \"r\" aparece na frase abaixo. Use um placeholder na \n",
    "# sua instrução de impressão\n",
    "\n",
    "# “A gratidão é a virtude das almas nobres. O quão feliz é uma pessoa depende da profundidade de sua gratidão.” \n",
    "\n",
    "frase = \"A gratidão é a virtude das almas nobres. O quão feliz é uma pessoa depende da profundidade de sua gratidão.\" \n",
    "\n",
    "counter = 0\n",
    "\n",
    "for char in frase:\n",
    "    if char.lower() == 'r':\n",
    "        counter += 1\n",
    "counter"
   ]
  },
  {
   "cell_type": "markdown",
   "metadata": {},
   "source": [
    "# Fim"
   ]
  },
  {
   "cell_type": "markdown",
   "metadata": {},
   "source": [
    "### Obrigado\n",
    "\n",
    "### Visite o Blog da Data Science Academy - <a href=\"http://blog.dsacademy.com.br\">Blog DSA</a>"
   ]
  }
 ],
 "metadata": {
  "kernelspec": {
   "display_name": "Python 3 (ipykernel)",
   "language": "python",
   "name": "python3"
  },
  "language_info": {
   "codemirror_mode": {
    "name": "ipython",
    "version": 3
   },
   "file_extension": ".py",
   "mimetype": "text/x-python",
   "name": "python",
   "nbconvert_exporter": "python",
   "pygments_lexer": "ipython3",
   "version": "3.12.2"
  }
 },
 "nbformat": 4,
 "nbformat_minor": 1
}
