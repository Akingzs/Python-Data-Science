{
 "cells": [
  {
   "cell_type": "code",
   "execution_count": 1,
   "metadata": {},
   "outputs": [],
   "source": [
    "import pandas as pd"
   ]
  },
  {
   "cell_type": "code",
   "execution_count": 12,
   "metadata": {},
   "outputs": [],
   "source": [
    "url = 'https://www.stats.govt.nz/assets/Uploads/Business-operations-survey/Business-operations-survey-2022/Download-data/business-operations-survey-2022-price-and-wage-setting.csv'\n"
   ]
  },
  {
   "cell_type": "code",
   "execution_count": 13,
   "metadata": {},
   "outputs": [],
   "source": [
    "df = pd.read_csv(url, encoding='ansi')"
   ]
  },
  {
   "cell_type": "code",
   "execution_count": 14,
   "metadata": {},
   "outputs": [
    {
     "data": {
      "text/html": [
       "<div>\n",
       "<style scoped>\n",
       "    .dataframe tbody tr th:only-of-type {\n",
       "        vertical-align: middle;\n",
       "    }\n",
       "\n",
       "    .dataframe tbody tr th {\n",
       "        vertical-align: top;\n",
       "    }\n",
       "\n",
       "    .dataframe thead th {\n",
       "        text-align: right;\n",
       "    }\n",
       "</style>\n",
       "<table border=\"1\" class=\"dataframe\">\n",
       "  <thead>\n",
       "    <tr style=\"text-align: right;\">\n",
       "      <th></th>\n",
       "      <th>description</th>\n",
       "      <th>industry</th>\n",
       "      <th>level</th>\n",
       "      <th>size</th>\n",
       "      <th>line_code</th>\n",
       "      <th>value</th>\n",
       "    </tr>\n",
       "  </thead>\n",
       "  <tbody>\n",
       "    <tr>\n",
       "      <th>0</th>\n",
       "      <td>Business main customer: individuals or households</td>\n",
       "      <td>total</td>\n",
       "      <td>0</td>\n",
       "      <td>6–19 employees</td>\n",
       "      <td>C0300.01</td>\n",
       "      <td>15639</td>\n",
       "    </tr>\n",
       "    <tr>\n",
       "      <th>1</th>\n",
       "      <td>Business main customer: individuals or households</td>\n",
       "      <td>total</td>\n",
       "      <td>0</td>\n",
       "      <td>20–49 employees</td>\n",
       "      <td>C0300.01</td>\n",
       "      <td>2943</td>\n",
       "    </tr>\n",
       "    <tr>\n",
       "      <th>2</th>\n",
       "      <td>Business main customer: individuals or households</td>\n",
       "      <td>total</td>\n",
       "      <td>0</td>\n",
       "      <td>50–99 employees</td>\n",
       "      <td>C0300.01</td>\n",
       "      <td>639</td>\n",
       "    </tr>\n",
       "    <tr>\n",
       "      <th>3</th>\n",
       "      <td>Business main customer: individuals or households</td>\n",
       "      <td>total</td>\n",
       "      <td>0</td>\n",
       "      <td>100+ employees</td>\n",
       "      <td>C0300.01</td>\n",
       "      <td>555</td>\n",
       "    </tr>\n",
       "    <tr>\n",
       "      <th>4</th>\n",
       "      <td>Business main customer: individuals or households</td>\n",
       "      <td>Agriculture, forestry, &amp; fishing</td>\n",
       "      <td>1</td>\n",
       "      <td>total</td>\n",
       "      <td>C0300.01</td>\n",
       "      <td>348</td>\n",
       "    </tr>\n",
       "  </tbody>\n",
       "</table>\n",
       "</div>"
      ],
      "text/plain": [
       "                                         description  \\\n",
       "0  Business main customer: individuals or households   \n",
       "1  Business main customer: individuals or households   \n",
       "2  Business main customer: individuals or households   \n",
       "3  Business main customer: individuals or households   \n",
       "4  Business main customer: individuals or households   \n",
       "\n",
       "                           industry  level             size line_code  value  \n",
       "0                             total      0   6–19 employees  C0300.01  15639  \n",
       "1                             total      0  20–49 employees  C0300.01   2943  \n",
       "2                             total      0  50–99 employees  C0300.01    639  \n",
       "3                             total      0   100+ employees  C0300.01    555  \n",
       "4  Agriculture, forestry, & fishing      1            total  C0300.01    348  "
      ]
     },
     "execution_count": 14,
     "metadata": {},
     "output_type": "execute_result"
    }
   ],
   "source": [
    "df.head()"
   ]
  },
  {
   "cell_type": "code",
   "execution_count": 17,
   "metadata": {},
   "outputs": [
    {
     "name": "stdout",
     "output_type": "stream",
     "text": [
      "<class 'pandas.core.frame.DataFrame'>\n",
      "RangeIndex: 14758 entries, 0 to 14757\n",
      "Data columns (total 6 columns):\n",
      " #   Column       Non-Null Count  Dtype \n",
      "---  ------       --------------  ----- \n",
      " 0   description  14758 non-null  object\n",
      " 1   industry     14758 non-null  object\n",
      " 2   level        14758 non-null  int64 \n",
      " 3   size         14758 non-null  object\n",
      " 4   line_code    14758 non-null  object\n",
      " 5   value        14758 non-null  int64 \n",
      "dtypes: int64(2), object(4)\n",
      "memory usage: 691.9+ KB\n"
     ]
    }
   ],
   "source": [
    "df.info()"
   ]
  },
  {
   "cell_type": "code",
   "execution_count": 18,
   "metadata": {},
   "outputs": [],
   "source": [
    "# axis 1 drop column 0 drop row\n",
    "df.dropna(subset=['size'],axis=0,inplace=True)"
   ]
  },
  {
   "cell_type": "code",
   "execution_count": 19,
   "metadata": {},
   "outputs": [
    {
     "name": "stdout",
     "output_type": "stream",
     "text": [
      "<class 'pandas.core.frame.DataFrame'>\n",
      "RangeIndex: 14758 entries, 0 to 14757\n",
      "Data columns (total 6 columns):\n",
      " #   Column       Non-Null Count  Dtype \n",
      "---  ------       --------------  ----- \n",
      " 0   description  14758 non-null  object\n",
      " 1   industry     14758 non-null  object\n",
      " 2   level        14758 non-null  int64 \n",
      " 3   size         14758 non-null  object\n",
      " 4   line_code    14758 non-null  object\n",
      " 5   value        14758 non-null  int64 \n",
      "dtypes: int64(2), object(4)\n",
      "memory usage: 691.9+ KB\n"
     ]
    }
   ],
   "source": [
    "df.info()"
   ]
  },
  {
   "cell_type": "code",
   "execution_count": 20,
   "metadata": {},
   "outputs": [
    {
     "data": {
      "text/plain": [
       "level\n",
       "2    7536\n",
       "1    5652\n",
       "0    1570\n",
       "Name: count, dtype: int64"
      ]
     },
     "execution_count": 20,
     "metadata": {},
     "output_type": "execute_result"
    }
   ],
   "source": [
    "df['level'].value_counts()"
   ]
  },
  {
   "cell_type": "code",
   "execution_count": 21,
   "metadata": {},
   "outputs": [],
   "source": [
    "# Convert column type\n",
    "df['value'] = df['value'].astype('float')"
   ]
  },
  {
   "cell_type": "code",
   "execution_count": 22,
   "metadata": {},
   "outputs": [
    {
     "name": "stdout",
     "output_type": "stream",
     "text": [
      "<class 'pandas.core.series.Series'>\n",
      "RangeIndex: 14758 entries, 0 to 14757\n",
      "Series name: value\n",
      "Non-Null Count  Dtype  \n",
      "--------------  -----  \n",
      "14758 non-null  float64\n",
      "dtypes: float64(1)\n",
      "memory usage: 115.4 KB\n"
     ]
    }
   ],
   "source": [
    "df['value'].info()"
   ]
  },
  {
   "cell_type": "code",
   "execution_count": null,
   "metadata": {},
   "outputs": [],
   "source": []
  }
 ],
 "metadata": {
  "kernelspec": {
   "display_name": "Python 3",
   "language": "python",
   "name": "python3"
  },
  "language_info": {
   "codemirror_mode": {
    "name": "ipython",
    "version": 3
   },
   "file_extension": ".py",
   "mimetype": "text/x-python",
   "name": "python",
   "nbconvert_exporter": "python",
   "pygments_lexer": "ipython3",
   "version": "3.12.1"
  }
 },
 "nbformat": 4,
 "nbformat_minor": 2
}
