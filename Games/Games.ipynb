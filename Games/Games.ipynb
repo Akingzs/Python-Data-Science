{
 "cells": [
  {
   "cell_type": "code",
   "execution_count": 1,
   "id": "2ec0e0c7",
   "metadata": {},
   "outputs": [],
   "source": [
    "import pandas as pd\n",
    "import numpy as np\n",
    "import matplotlib.pyplot as plt"
   ]
  },
  {
   "cell_type": "code",
   "execution_count": 2,
   "id": "a022dd79",
   "metadata": {},
   "outputs": [],
   "source": [
    "folder_path = r\"C:\\Users\\arthur.oliveira\\OneDrive\\Codes\\Database\\Games\\Video_Games.csv\"\n",
    "df = pd.read_csv(folder_path)"
   ]
  },
  {
   "cell_type": "code",
   "execution_count": null,
   "id": "2d5c860f",
   "metadata": {},
   "outputs": [],
   "source": [
    "df.head(10)"
   ]
  },
  {
   "cell_type": "code",
   "execution_count": null,
   "id": "80d6634d",
   "metadata": {},
   "outputs": [],
   "source": [
    "df.columns"
   ]
  },
  {
   "cell_type": "code",
   "execution_count": null,
   "id": "d08a8b32",
   "metadata": {},
   "outputs": [],
   "source": [
    "df.describe()"
   ]
  },
  {
   "cell_type": "code",
   "execution_count": null,
   "id": "41c9b79e",
   "metadata": {},
   "outputs": [],
   "source": [
    "df.info()"
   ]
  },
  {
   "cell_type": "code",
   "execution_count": 3,
   "id": "d2615ce1",
   "metadata": {},
   "outputs": [],
   "source": [
    "df.dropna(subset=['Name','Year_of_Release'],inplace = True)"
   ]
  },
  {
   "cell_type": "code",
   "execution_count": 4,
   "id": "9787a13d",
   "metadata": {},
   "outputs": [
    {
     "name": "stdout",
     "output_type": "stream",
     "text": [
      "<class 'pandas.core.frame.DataFrame'>\n",
      "Int64Index: 16448 entries, 0 to 16718\n",
      "Data columns (total 16 columns):\n",
      " #   Column           Non-Null Count  Dtype  \n",
      "---  ------           --------------  -----  \n",
      " 0   Name             16448 non-null  object \n",
      " 1   Platform         16448 non-null  object \n",
      " 2   Year_of_Release  16448 non-null  float64\n",
      " 3   Genre            16448 non-null  object \n",
      " 4   Publisher        16416 non-null  object \n",
      " 5   NA_Sales         16448 non-null  float64\n",
      " 6   EU_Sales         16448 non-null  float64\n",
      " 7   JP_Sales         16448 non-null  float64\n",
      " 8   Other_Sales      16448 non-null  float64\n",
      " 9   Global_Sales     16448 non-null  float64\n",
      " 10  Critic_Score     7983 non-null   float64\n",
      " 11  Critic_Count     7983 non-null   float64\n",
      " 12  User_Score       9840 non-null   object \n",
      " 13  User_Count       7463 non-null   float64\n",
      " 14  Developer        9907 non-null   object \n",
      " 15  Rating           9769 non-null   object \n",
      "dtypes: float64(9), object(7)\n",
      "memory usage: 2.1+ MB\n"
     ]
    }
   ],
   "source": [
    "df.info()"
   ]
  },
  {
   "cell_type": "code",
   "execution_count": 5,
   "id": "b707afa9",
   "metadata": {},
   "outputs": [],
   "source": [
    "\n",
    "df['User_Score'] = df['User_Score'].replace('tbd', np.nan)"
   ]
  },
  {
   "cell_type": "code",
   "execution_count": 6,
   "id": "f551a35c",
   "metadata": {},
   "outputs": [],
   "source": [
    "df['User_Score'] = df['User_Score'].astype('float')"
   ]
  },
  {
   "cell_type": "code",
   "execution_count": 7,
   "id": "4f1c6e67",
   "metadata": {},
   "outputs": [
    {
     "name": "stdout",
     "output_type": "stream",
     "text": [
      "<class 'pandas.core.frame.DataFrame'>\n",
      "Int64Index: 16448 entries, 0 to 16718\n",
      "Data columns (total 16 columns):\n",
      " #   Column           Non-Null Count  Dtype  \n",
      "---  ------           --------------  -----  \n",
      " 0   Name             16448 non-null  object \n",
      " 1   Platform         16448 non-null  object \n",
      " 2   Year_of_Release  16448 non-null  float64\n",
      " 3   Genre            16448 non-null  object \n",
      " 4   Publisher        16416 non-null  object \n",
      " 5   NA_Sales         16448 non-null  float64\n",
      " 6   EU_Sales         16448 non-null  float64\n",
      " 7   JP_Sales         16448 non-null  float64\n",
      " 8   Other_Sales      16448 non-null  float64\n",
      " 9   Global_Sales     16448 non-null  float64\n",
      " 10  Critic_Score     7983 non-null   float64\n",
      " 11  Critic_Count     7983 non-null   float64\n",
      " 12  User_Score       7463 non-null   float64\n",
      " 13  User_Count       7463 non-null   float64\n",
      " 14  Developer        9907 non-null   object \n",
      " 15  Rating           9769 non-null   object \n",
      "dtypes: float64(10), object(6)\n",
      "memory usage: 2.1+ MB\n"
     ]
    }
   ],
   "source": [
    "df.info()"
   ]
  },
  {
   "cell_type": "code",
   "execution_count": 8,
   "id": "68af4ed9",
   "metadata": {},
   "outputs": [
    {
     "name": "stdout",
     "output_type": "stream",
     "text": [
      "['Sports' 'Platform' 'Racing' 'Role-Playing' 'Puzzle' 'Misc' 'Shooter'\n",
      " 'Simulation' 'Action' 'Fighting' 'Adventure' 'Strategy']\n"
     ]
    }
   ],
   "source": [
    "# VER VALORES UNICOS \n",
    "valores_unicos = df['Genre'].unique()\n",
    "\n",
    "print(valores_unicos)\n"
   ]
  },
  {
   "cell_type": "code",
   "execution_count": 9,
   "id": "3d334b1f",
   "metadata": {},
   "outputs": [
    {
     "name": "stdout",
     "output_type": "stream",
     "text": [
      "['Wii' 'NES' 'GB' 'DS' 'X360' 'PS3' 'PS2' 'SNES' 'GBA' 'PS4' '3DS' 'N64'\n",
      " 'PS' 'XB' 'PC' '2600' 'PSP' 'XOne' 'WiiU' 'GC' 'GEN' 'DC' 'PSV' 'SAT'\n",
      " 'SCD' 'WS' 'NG' 'TG16' '3DO' 'GG' 'PCFX']\n"
     ]
    }
   ],
   "source": [
    "# VER VALORES UNICOS \n",
    "valores_unicos2 = df['Platform'].unique()\n",
    "\n",
    "print(valores_unicos2)\n"
   ]
  },
  {
   "cell_type": "code",
   "execution_count": 10,
   "id": "0ca8f820",
   "metadata": {
    "scrolled": false
   },
   "outputs": [
    {
     "name": "stderr",
     "output_type": "stream",
     "text": [
      "No artists with labels found to put in legend.  Note that artists whose label start with an underscore are ignored when legend() is called with no argument.\n"
     ]
    },
    {
     "data": {
      "image/png": "[encoded data removed]",
      "text/plain": [
       "<Figure size 640x480 with 1 Axes>"
      ]
     },
     "metadata": {},
     "output_type": "display_data"
    }
   ],
   "source": [
    "fig, ax = plt.subplots()\n",
    "contagem = df['Platform'].value_counts()\n",
    "ax.bar(contagem.index, contagem.values)\n",
    "\n",
    "ax.set_ylabel('fruit supply')\n",
    "ax.set_title('Fruit supply by kind and color')\n",
    "ax.legend(title='Fruit color')\n",
    "plt.xticks(rotation=90)\n",
    "plt.show()"
   ]
  },
  {
   "cell_type": "code",
   "execution_count": 12,
   "id": "fadd9bfd",
   "metadata": {},
   "outputs": [],
   "source": [
    "df2= df.query('2000 <= Year_of_Release <= 2015')\n",
    "df2  = df2.head(100)"
   ]
  },
  {
   "cell_type": "code",
   "execution_count": 13,
   "id": "e549a3ee",
   "metadata": {},
   "outputs": [
    {
     "name": "stderr",
     "output_type": "stream",
     "text": [
      "C:\\Users\\arthur.oliveira\\AppData\\Local\\Temp\\ipykernel_18888\\3019020875.py:2: FutureWarning: The default value of numeric_only in DataFrameGroupBy.sum is deprecated. In a future version, numeric_only will default to False. Either specify numeric_only or select only columns which should be valid for the function.\n",
      "  df2_group_year = df2.groupby(['Year_of_Release']).sum()\n"
     ]
    }
   ],
   "source": [
    "# agrupei por Ano para poder mostrar no grafico o eixo x de 3 em 3 anos\n",
    "df2_group_year = df2.groupby(['Year_of_Release']).sum()"
   ]
  },
  {
   "cell_type": "code",
   "execution_count": 14,
   "id": "e4cd5600",
   "metadata": {},
   "outputs": [
    {
     "data": {
      "text/plain": [
       "<matplotlib.legend.Legend at 0x15e800af9d0>"
      ]
     },
     "execution_count": 14,
     "metadata": {},
     "output_type": "execute_result"
    },
    {
     "data": {
      "image/png": "[encoded data removed]",
      "text/plain": [
       "<Figure size 800x500 with 1 Axes>"
      ]
     },
     "metadata": {},
     "output_type": "display_data"
    }
   ],
   "source": [
    "#plota como figura, adiciona dimensoes para a plotagem\n",
    "plt.figure(figsize=(8,5))\n",
    "\n",
    "#plota grafico\n",
    "plt.bar(df2_group_year.index, df2_group_year.NA_Sales, label='NA sales')\n",
    "plt.bar(df2_group_year.index, df2_group_year.EU_Sales, label='EU sales')\n",
    "\n",
    "#altera eixo x\n",
    "plt.xticks(df2_group_year.index[::3],rotation=90)\n",
    "\n",
    "# Adiciona titulo aos eixos\n",
    "plt.xlabel('Year')\n",
    "plt.ylabel('US Dollars')\n",
    "\n",
    "#adiciona legenda\n",
    "plt.legend()\n"
   ]
  },
  {
   "cell_type": "code",
   "execution_count": 15,
   "id": "600b8232",
   "metadata": {},
   "outputs": [
    {
     "data": {
      "text/plain": [
       "Float64Index([2001.0, 2004.0, 2007.0, 2010.0, 2013.0], dtype='float64', name='Year_of_Release')"
      ]
     },
     "execution_count": 15,
     "metadata": {},
     "output_type": "execute_result"
    }
   ],
   "source": [
    "df2_group_year.index[::3]"
   ]
  },
  {
   "cell_type": "code",
   "execution_count": 16,
   "id": "2d70e025",
   "metadata": {},
   "outputs": [
    {
     "data": {
      "text/plain": [
       "Float64Index([2001.0, 2002.0, 2003.0, 2004.0, 2005.0, 2006.0, 2007.0, 2008.0,\n",
       "              2009.0, 2010.0, 2011.0, 2012.0, 2013.0, 2014.0, 2015.0],\n",
       "             dtype='float64', name='Year_of_Release')"
      ]
     },
     "execution_count": 16,
     "metadata": {},
     "output_type": "execute_result"
    }
   ],
   "source": [
    "df2_group_year.index"
   ]
  },
  {
   "cell_type": "code",
   "execution_count": null,
   "id": "fc7c368e",
   "metadata": {},
   "outputs": [],
   "source": []
  },
  {
   "cell_type": "code",
   "execution_count": 17,
   "id": "3152706d",
   "metadata": {},
   "outputs": [
    {
     "data": {
      "text/html": [
       "<div>\n",
       "<style scoped>\n",
       "    .dataframe tbody tr th:only-of-type {\n",
       "        vertical-align: middle;\n",
       "    }\n",
       "\n",
       "    .dataframe tbody tr th {\n",
       "        vertical-align: top;\n",
       "    }\n",
       "\n",
       "    .dataframe thead th {\n",
       "        text-align: right;\n",
       "    }\n",
       "</style>\n",
       "<table border=\"1\" class=\"dataframe\">\n",
       "  <thead>\n",
       "    <tr style=\"text-align: right;\">\n",
       "      <th></th>\n",
       "      <th>NA_Sales</th>\n",
       "      <th>EU_Sales</th>\n",
       "      <th>JP_Sales</th>\n",
       "      <th>Other_Sales</th>\n",
       "      <th>Global_Sales</th>\n",
       "      <th>Critic_Score</th>\n",
       "      <th>Critic_Count</th>\n",
       "      <th>User_Score</th>\n",
       "      <th>User_Count</th>\n",
       "    </tr>\n",
       "    <tr>\n",
       "      <th>Year_of_Release</th>\n",
       "      <th></th>\n",
       "      <th></th>\n",
       "      <th></th>\n",
       "      <th></th>\n",
       "      <th></th>\n",
       "      <th></th>\n",
       "      <th></th>\n",
       "      <th></th>\n",
       "      <th></th>\n",
       "    </tr>\n",
       "  </thead>\n",
       "  <tbody>\n",
       "    <tr>\n",
       "      <th>2001.0</th>\n",
       "      <td>26.14</td>\n",
       "      <td>14.01</td>\n",
       "      <td>6.37</td>\n",
       "      <td>3.08</td>\n",
       "      <td>49.63</td>\n",
       "      <td>473.0</td>\n",
       "      <td>269.0</td>\n",
       "      <td>43.3</td>\n",
       "      <td>3885.0</td>\n",
       "    </tr>\n",
       "    <tr>\n",
       "      <th>2002.0</th>\n",
       "      <td>17.40</td>\n",
       "      <td>12.14</td>\n",
       "      <td>6.02</td>\n",
       "      <td>3.27</td>\n",
       "      <td>38.83</td>\n",
       "      <td>183.0</td>\n",
       "      <td>91.0</td>\n",
       "      <td>17.2</td>\n",
       "      <td>865.0</td>\n",
       "    </tr>\n",
       "    <tr>\n",
       "      <th>2003.0</th>\n",
       "      <td>7.39</td>\n",
       "      <td>4.60</td>\n",
       "      <td>0.95</td>\n",
       "      <td>1.21</td>\n",
       "      <td>14.15</td>\n",
       "      <td>85.0</td>\n",
       "      <td>33.0</td>\n",
       "      <td>8.6</td>\n",
       "      <td>171.0</td>\n",
       "    </tr>\n",
       "    <tr>\n",
       "      <th>2004.0</th>\n",
       "      <td>31.32</td>\n",
       "      <td>10.68</td>\n",
       "      <td>6.04</td>\n",
       "      <td>20.59</td>\n",
       "      <td>68.65</td>\n",
       "      <td>361.0</td>\n",
       "      <td>284.0</td>\n",
       "      <td>34.3</td>\n",
       "      <td>3210.0</td>\n",
       "    </tr>\n",
       "    <tr>\n",
       "      <th>2005.0</th>\n",
       "      <td>33.99</td>\n",
       "      <td>41.98</td>\n",
       "      <td>22.71</td>\n",
       "      <td>11.07</td>\n",
       "      <td>109.76</td>\n",
       "      <td>493.0</td>\n",
       "      <td>326.0</td>\n",
       "      <td>47.3</td>\n",
       "      <td>1253.0</td>\n",
       "    </tr>\n",
       "    <tr>\n",
       "      <th>2006.0</th>\n",
       "      <td>76.72</td>\n",
       "      <td>53.88</td>\n",
       "      <td>19.84</td>\n",
       "      <td>16.21</td>\n",
       "      <td>166.65</td>\n",
       "      <td>318.0</td>\n",
       "      <td>230.0</td>\n",
       "      <td>32.1</td>\n",
       "      <td>2540.0</td>\n",
       "    </tr>\n",
       "    <tr>\n",
       "      <th>2007.0</th>\n",
       "      <td>42.70</td>\n",
       "      <td>26.76</td>\n",
       "      <td>9.56</td>\n",
       "      <td>8.32</td>\n",
       "      <td>87.33</td>\n",
       "      <td>593.0</td>\n",
       "      <td>404.0</td>\n",
       "      <td>55.3</td>\n",
       "      <td>8981.0</td>\n",
       "    </tr>\n",
       "    <tr>\n",
       "      <th>2008.0</th>\n",
       "      <td>45.54</td>\n",
       "      <td>27.57</td>\n",
       "      <td>9.78</td>\n",
       "      <td>8.81</td>\n",
       "      <td>91.72</td>\n",
       "      <td>631.0</td>\n",
       "      <td>524.0</td>\n",
       "      <td>56.4</td>\n",
       "      <td>11677.0</td>\n",
       "    </tr>\n",
       "    <tr>\n",
       "      <th>2009.0</th>\n",
       "      <td>64.65</td>\n",
       "      <td>47.91</td>\n",
       "      <td>15.14</td>\n",
       "      <td>12.91</td>\n",
       "      <td>140.59</td>\n",
       "      <td>666.0</td>\n",
       "      <td>554.0</td>\n",
       "      <td>60.8</td>\n",
       "      <td>11792.0</td>\n",
       "    </tr>\n",
       "    <tr>\n",
       "      <th>2010.0</th>\n",
       "      <td>66.72</td>\n",
       "      <td>38.46</td>\n",
       "      <td>12.05</td>\n",
       "      <td>12.49</td>\n",
       "      <td>129.72</td>\n",
       "      <td>832.0</td>\n",
       "      <td>676.0</td>\n",
       "      <td>75.6</td>\n",
       "      <td>10567.0</td>\n",
       "    </tr>\n",
       "    <tr>\n",
       "      <th>2011.0</th>\n",
       "      <td>46.42</td>\n",
       "      <td>34.94</td>\n",
       "      <td>6.26</td>\n",
       "      <td>10.68</td>\n",
       "      <td>98.31</td>\n",
       "      <td>782.0</td>\n",
       "      <td>571.0</td>\n",
       "      <td>62.6</td>\n",
       "      <td>26720.0</td>\n",
       "    </tr>\n",
       "    <tr>\n",
       "      <th>2012.0</th>\n",
       "      <td>36.12</td>\n",
       "      <td>29.16</td>\n",
       "      <td>11.05</td>\n",
       "      <td>9.35</td>\n",
       "      <td>85.67</td>\n",
       "      <td>666.0</td>\n",
       "      <td>409.0</td>\n",
       "      <td>53.8</td>\n",
       "      <td>9171.0</td>\n",
       "    </tr>\n",
       "    <tr>\n",
       "      <th>2013.0</th>\n",
       "      <td>39.27</td>\n",
       "      <td>31.50</td>\n",
       "      <td>5.90</td>\n",
       "      <td>10.49</td>\n",
       "      <td>87.17</td>\n",
       "      <td>424.0</td>\n",
       "      <td>184.0</td>\n",
       "      <td>25.8</td>\n",
       "      <td>11445.0</td>\n",
       "    </tr>\n",
       "    <tr>\n",
       "      <th>2014.0</th>\n",
       "      <td>17.54</td>\n",
       "      <td>16.80</td>\n",
       "      <td>7.33</td>\n",
       "      <td>4.93</td>\n",
       "      <td>46.59</td>\n",
       "      <td>268.0</td>\n",
       "      <td>187.0</td>\n",
       "      <td>23.1</td>\n",
       "      <td>5941.0</td>\n",
       "    </tr>\n",
       "    <tr>\n",
       "      <th>2015.0</th>\n",
       "      <td>17.26</td>\n",
       "      <td>20.85</td>\n",
       "      <td>0.89</td>\n",
       "      <td>6.75</td>\n",
       "      <td>45.73</td>\n",
       "      <td>169.0</td>\n",
       "      <td>100.0</td>\n",
       "      <td>10.8</td>\n",
       "      <td>5124.0</td>\n",
       "    </tr>\n",
       "  </tbody>\n",
       "</table>\n",
       "</div>"
      ],
      "text/plain": [
       "                 NA_Sales  EU_Sales  JP_Sales  Other_Sales  Global_Sales  \\\n",
       "Year_of_Release                                                            \n",
       "2001.0              26.14     14.01      6.37         3.08         49.63   \n",
       "2002.0              17.40     12.14      6.02         3.27         38.83   \n",
       "2003.0               7.39      4.60      0.95         1.21         14.15   \n",
       "2004.0              31.32     10.68      6.04        20.59         68.65   \n",
       "2005.0              33.99     41.98     22.71        11.07        109.76   \n",
       "2006.0              76.72     53.88     19.84        16.21        166.65   \n",
       "2007.0              42.70     26.76      9.56         8.32         87.33   \n",
       "2008.0              45.54     27.57      9.78         8.81         91.72   \n",
       "2009.0              64.65     47.91     15.14        12.91        140.59   \n",
       "2010.0              66.72     38.46     12.05        12.49        129.72   \n",
       "2011.0              46.42     34.94      6.26        10.68         98.31   \n",
       "2012.0              36.12     29.16     11.05         9.35         85.67   \n",
       "2013.0              39.27     31.50      5.90        10.49         87.17   \n",
       "2014.0              17.54     16.80      7.33         4.93         46.59   \n",
       "2015.0              17.26     20.85      0.89         6.75         45.73   \n",
       "\n",
       "                 Critic_Score  Critic_Count  User_Score  User_Count  \n",
       "Year_of_Release                                                      \n",
       "2001.0                  473.0         269.0        43.3      3885.0  \n",
       "2002.0                  183.0          91.0        17.2       865.0  \n",
       "2003.0                   85.0          33.0         8.6       171.0  \n",
       "2004.0                  361.0         284.0        34.3      3210.0  \n",
       "2005.0                  493.0         326.0        47.3      1253.0  \n",
       "2006.0                  318.0         230.0        32.1      2540.0  \n",
       "2007.0                  593.0         404.0        55.3      8981.0  \n",
       "2008.0                  631.0         524.0        56.4     11677.0  \n",
       "2009.0                  666.0         554.0        60.8     11792.0  \n",
       "2010.0                  832.0         676.0        75.6     10567.0  \n",
       "2011.0                  782.0         571.0        62.6     26720.0  \n",
       "2012.0                  666.0         409.0        53.8      9171.0  \n",
       "2013.0                  424.0         184.0        25.8     11445.0  \n",
       "2014.0                  268.0         187.0        23.1      5941.0  \n",
       "2015.0                  169.0         100.0        10.8      5124.0  "
      ]
     },
     "execution_count": 17,
     "metadata": {},
     "output_type": "execute_result"
    }
   ],
   "source": [
    "df2_group_year"
   ]
  },
  {
   "cell_type": "code",
   "execution_count": null,
   "id": "5805e997",
   "metadata": {},
   "outputs": [],
   "source": []
  }
 ],
 "metadata": {
  "kernelspec": {
   "display_name": "Python 3 (ipykernel)",
   "language": "python",
   "name": "python3"
  },
  "language_info": {
   "codemirror_mode": {
    "name": "ipython",
    "version": 3
   },
   "file_extension": ".py",
   "mimetype": "text/x-python",
   "name": "python",
   "nbconvert_exporter": "python",
   "pygments_lexer": "ipython3",
   "version": "3.10.9"
  }
 },
 "nbformat": 4,
 "nbformat_minor": 5
}
